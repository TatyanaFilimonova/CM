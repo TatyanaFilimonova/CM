{
  "nbformat": 4,
  "nbformat_minor": 0,
  "metadata": {
    "colab": {
      "provenance": [],
      "include_colab_link": true
    },
    "kernelspec": {
      "name": "python3",
      "display_name": "Python 3"
    },
    "language_info": {
      "name": "python"
    }
  },
  "cells": [
    {
      "cell_type": "markdown",
      "metadata": {
        "id": "view-in-github",
        "colab_type": "text"
      },
      "source": [
        "<a href=\"https://colab.research.google.com/github/TatyanaFilimonova/CM/blob/main/%D0%A2%D0%B5%D0%BC%D0%B03_1.ipynb\" target=\"_parent\"><img src=\"https://colab.research.google.com/assets/colab-badge.svg\" alt=\"Open In Colab\"/></a>"
      ]
    },
    {
      "cell_type": "markdown",
      "source": [
        "# General"
      ],
      "metadata": {
        "id": "2shV4K4d9Iub"
      }
    },
    {
      "cell_type": "code",
      "source": [
        "import pandas as pd\n",
        "import numpy as np\n",
        "import matplotlib.pyplot as plt\n",
        "import seaborn as sns\n",
        "\n",
        "sns.set_style('darkgrid')"
      ],
      "metadata": {
        "id": "rzLOwC2FLhhT"
      },
      "execution_count": null,
      "outputs": []
    },
    {
      "cell_type": "code",
      "source": [
        "df = pd.read_csv('Housing.csv')"
      ],
      "metadata": {
        "id": "gmvfEejgLTh2"
      },
      "execution_count": null,
      "outputs": []
    },
    {
      "cell_type": "code",
      "execution_count": null,
      "metadata": {
        "colab": {
          "base_uri": "https://localhost:8080/",
          "height": 224
        },
        "id": "aXUnhPBkLIWf",
        "outputId": "990eea70-47f9-4b6a-b392-d790dc86fa05"
      },
      "outputs": [
        {
          "output_type": "execute_result",
          "data": {
            "text/plain": [
              "      price  area  bedrooms  bathrooms  stories mainroad guestroom basement  \\\n",
              "0  13300000  7420         4          2        3      yes        no       no   \n",
              "1  12250000  8960         4          4        4      yes        no       no   \n",
              "2  12250000  9960         3          2        2      yes        no      yes   \n",
              "3  12215000  7500         4          2        2      yes        no      yes   \n",
              "4  11410000  7420         4          1        2      yes       yes      yes   \n",
              "\n",
              "  hotwaterheating airconditioning  parking prefarea furnishingstatus  \n",
              "0              no             yes        2      yes        furnished  \n",
              "1              no             yes        3       no        furnished  \n",
              "2              no              no        2      yes   semi-furnished  \n",
              "3              no             yes        3      yes        furnished  \n",
              "4              no             yes        2       no        furnished  "
            ],
            "text/html": [
              "\n",
              "  <div id=\"df-153ddf5c-fd90-4efc-97a2-12a3147c2676\" class=\"colab-df-container\">\n",
              "    <div>\n",
              "<style scoped>\n",
              "    .dataframe tbody tr th:only-of-type {\n",
              "        vertical-align: middle;\n",
              "    }\n",
              "\n",
              "    .dataframe tbody tr th {\n",
              "        vertical-align: top;\n",
              "    }\n",
              "\n",
              "    .dataframe thead th {\n",
              "        text-align: right;\n",
              "    }\n",
              "</style>\n",
              "<table border=\"1\" class=\"dataframe\">\n",
              "  <thead>\n",
              "    <tr style=\"text-align: right;\">\n",
              "      <th></th>\n",
              "      <th>price</th>\n",
              "      <th>area</th>\n",
              "      <th>bedrooms</th>\n",
              "      <th>bathrooms</th>\n",
              "      <th>stories</th>\n",
              "      <th>mainroad</th>\n",
              "      <th>guestroom</th>\n",
              "      <th>basement</th>\n",
              "      <th>hotwaterheating</th>\n",
              "      <th>airconditioning</th>\n",
              "      <th>parking</th>\n",
              "      <th>prefarea</th>\n",
              "      <th>furnishingstatus</th>\n",
              "    </tr>\n",
              "  </thead>\n",
              "  <tbody>\n",
              "    <tr>\n",
              "      <th>0</th>\n",
              "      <td>13300000</td>\n",
              "      <td>7420</td>\n",
              "      <td>4</td>\n",
              "      <td>2</td>\n",
              "      <td>3</td>\n",
              "      <td>yes</td>\n",
              "      <td>no</td>\n",
              "      <td>no</td>\n",
              "      <td>no</td>\n",
              "      <td>yes</td>\n",
              "      <td>2</td>\n",
              "      <td>yes</td>\n",
              "      <td>furnished</td>\n",
              "    </tr>\n",
              "    <tr>\n",
              "      <th>1</th>\n",
              "      <td>12250000</td>\n",
              "      <td>8960</td>\n",
              "      <td>4</td>\n",
              "      <td>4</td>\n",
              "      <td>4</td>\n",
              "      <td>yes</td>\n",
              "      <td>no</td>\n",
              "      <td>no</td>\n",
              "      <td>no</td>\n",
              "      <td>yes</td>\n",
              "      <td>3</td>\n",
              "      <td>no</td>\n",
              "      <td>furnished</td>\n",
              "    </tr>\n",
              "    <tr>\n",
              "      <th>2</th>\n",
              "      <td>12250000</td>\n",
              "      <td>9960</td>\n",
              "      <td>3</td>\n",
              "      <td>2</td>\n",
              "      <td>2</td>\n",
              "      <td>yes</td>\n",
              "      <td>no</td>\n",
              "      <td>yes</td>\n",
              "      <td>no</td>\n",
              "      <td>no</td>\n",
              "      <td>2</td>\n",
              "      <td>yes</td>\n",
              "      <td>semi-furnished</td>\n",
              "    </tr>\n",
              "    <tr>\n",
              "      <th>3</th>\n",
              "      <td>12215000</td>\n",
              "      <td>7500</td>\n",
              "      <td>4</td>\n",
              "      <td>2</td>\n",
              "      <td>2</td>\n",
              "      <td>yes</td>\n",
              "      <td>no</td>\n",
              "      <td>yes</td>\n",
              "      <td>no</td>\n",
              "      <td>yes</td>\n",
              "      <td>3</td>\n",
              "      <td>yes</td>\n",
              "      <td>furnished</td>\n",
              "    </tr>\n",
              "    <tr>\n",
              "      <th>4</th>\n",
              "      <td>11410000</td>\n",
              "      <td>7420</td>\n",
              "      <td>4</td>\n",
              "      <td>1</td>\n",
              "      <td>2</td>\n",
              "      <td>yes</td>\n",
              "      <td>yes</td>\n",
              "      <td>yes</td>\n",
              "      <td>no</td>\n",
              "      <td>yes</td>\n",
              "      <td>2</td>\n",
              "      <td>no</td>\n",
              "      <td>furnished</td>\n",
              "    </tr>\n",
              "  </tbody>\n",
              "</table>\n",
              "</div>\n",
              "    <div class=\"colab-df-buttons\">\n",
              "\n",
              "  <div class=\"colab-df-container\">\n",
              "    <button class=\"colab-df-convert\" onclick=\"convertToInteractive('df-153ddf5c-fd90-4efc-97a2-12a3147c2676')\"\n",
              "            title=\"Convert this dataframe to an interactive table.\"\n",
              "            style=\"display:none;\">\n",
              "\n",
              "  <svg xmlns=\"http://www.w3.org/2000/svg\" height=\"24px\" viewBox=\"0 -960 960 960\">\n",
              "    <path d=\"M120-120v-720h720v720H120Zm60-500h600v-160H180v160Zm220 220h160v-160H400v160Zm0 220h160v-160H400v160ZM180-400h160v-160H180v160Zm440 0h160v-160H620v160ZM180-180h160v-160H180v160Zm440 0h160v-160H620v160Z\"/>\n",
              "  </svg>\n",
              "    </button>\n",
              "\n",
              "  <style>\n",
              "    .colab-df-container {\n",
              "      display:flex;\n",
              "      gap: 12px;\n",
              "    }\n",
              "\n",
              "    .colab-df-convert {\n",
              "      background-color: #E8F0FE;\n",
              "      border: none;\n",
              "      border-radius: 50%;\n",
              "      cursor: pointer;\n",
              "      display: none;\n",
              "      fill: #1967D2;\n",
              "      height: 32px;\n",
              "      padding: 0 0 0 0;\n",
              "      width: 32px;\n",
              "    }\n",
              "\n",
              "    .colab-df-convert:hover {\n",
              "      background-color: #E2EBFA;\n",
              "      box-shadow: 0px 1px 2px rgba(60, 64, 67, 0.3), 0px 1px 3px 1px rgba(60, 64, 67, 0.15);\n",
              "      fill: #174EA6;\n",
              "    }\n",
              "\n",
              "    .colab-df-buttons div {\n",
              "      margin-bottom: 4px;\n",
              "    }\n",
              "\n",
              "    [theme=dark] .colab-df-convert {\n",
              "      background-color: #3B4455;\n",
              "      fill: #D2E3FC;\n",
              "    }\n",
              "\n",
              "    [theme=dark] .colab-df-convert:hover {\n",
              "      background-color: #434B5C;\n",
              "      box-shadow: 0px 1px 3px 1px rgba(0, 0, 0, 0.15);\n",
              "      filter: drop-shadow(0px 1px 2px rgba(0, 0, 0, 0.3));\n",
              "      fill: #FFFFFF;\n",
              "    }\n",
              "  </style>\n",
              "\n",
              "    <script>\n",
              "      const buttonEl =\n",
              "        document.querySelector('#df-153ddf5c-fd90-4efc-97a2-12a3147c2676 button.colab-df-convert');\n",
              "      buttonEl.style.display =\n",
              "        google.colab.kernel.accessAllowed ? 'block' : 'none';\n",
              "\n",
              "      async function convertToInteractive(key) {\n",
              "        const element = document.querySelector('#df-153ddf5c-fd90-4efc-97a2-12a3147c2676');\n",
              "        const dataTable =\n",
              "          await google.colab.kernel.invokeFunction('convertToInteractive',\n",
              "                                                    [key], {});\n",
              "        if (!dataTable) return;\n",
              "\n",
              "        const docLinkHtml = 'Like what you see? Visit the ' +\n",
              "          '<a target=\"_blank\" href=https://colab.research.google.com/notebooks/data_table.ipynb>data table notebook</a>'\n",
              "          + ' to learn more about interactive tables.';\n",
              "        element.innerHTML = '';\n",
              "        dataTable['output_type'] = 'display_data';\n",
              "        await google.colab.output.renderOutput(dataTable, element);\n",
              "        const docLink = document.createElement('div');\n",
              "        docLink.innerHTML = docLinkHtml;\n",
              "        element.appendChild(docLink);\n",
              "      }\n",
              "    </script>\n",
              "  </div>\n",
              "\n",
              "\n",
              "<div id=\"df-081ce180-999d-4abd-84b7-ee8701c1a935\">\n",
              "  <button class=\"colab-df-quickchart\" onclick=\"quickchart('df-081ce180-999d-4abd-84b7-ee8701c1a935')\"\n",
              "            title=\"Suggest charts\"\n",
              "            style=\"display:none;\">\n",
              "\n",
              "<svg xmlns=\"http://www.w3.org/2000/svg\" height=\"24px\"viewBox=\"0 0 24 24\"\n",
              "     width=\"24px\">\n",
              "    <g>\n",
              "        <path d=\"M19 3H5c-1.1 0-2 .9-2 2v14c0 1.1.9 2 2 2h14c1.1 0 2-.9 2-2V5c0-1.1-.9-2-2-2zM9 17H7v-7h2v7zm4 0h-2V7h2v10zm4 0h-2v-4h2v4z\"/>\n",
              "    </g>\n",
              "</svg>\n",
              "  </button>\n",
              "\n",
              "<style>\n",
              "  .colab-df-quickchart {\n",
              "      --bg-color: #E8F0FE;\n",
              "      --fill-color: #1967D2;\n",
              "      --hover-bg-color: #E2EBFA;\n",
              "      --hover-fill-color: #174EA6;\n",
              "      --disabled-fill-color: #AAA;\n",
              "      --disabled-bg-color: #DDD;\n",
              "  }\n",
              "\n",
              "  [theme=dark] .colab-df-quickchart {\n",
              "      --bg-color: #3B4455;\n",
              "      --fill-color: #D2E3FC;\n",
              "      --hover-bg-color: #434B5C;\n",
              "      --hover-fill-color: #FFFFFF;\n",
              "      --disabled-bg-color: #3B4455;\n",
              "      --disabled-fill-color: #666;\n",
              "  }\n",
              "\n",
              "  .colab-df-quickchart {\n",
              "    background-color: var(--bg-color);\n",
              "    border: none;\n",
              "    border-radius: 50%;\n",
              "    cursor: pointer;\n",
              "    display: none;\n",
              "    fill: var(--fill-color);\n",
              "    height: 32px;\n",
              "    padding: 0;\n",
              "    width: 32px;\n",
              "  }\n",
              "\n",
              "  .colab-df-quickchart:hover {\n",
              "    background-color: var(--hover-bg-color);\n",
              "    box-shadow: 0 1px 2px rgba(60, 64, 67, 0.3), 0 1px 3px 1px rgba(60, 64, 67, 0.15);\n",
              "    fill: var(--button-hover-fill-color);\n",
              "  }\n",
              "\n",
              "  .colab-df-quickchart-complete:disabled,\n",
              "  .colab-df-quickchart-complete:disabled:hover {\n",
              "    background-color: var(--disabled-bg-color);\n",
              "    fill: var(--disabled-fill-color);\n",
              "    box-shadow: none;\n",
              "  }\n",
              "\n",
              "  .colab-df-spinner {\n",
              "    border: 2px solid var(--fill-color);\n",
              "    border-color: transparent;\n",
              "    border-bottom-color: var(--fill-color);\n",
              "    animation:\n",
              "      spin 1s steps(1) infinite;\n",
              "  }\n",
              "\n",
              "  @keyframes spin {\n",
              "    0% {\n",
              "      border-color: transparent;\n",
              "      border-bottom-color: var(--fill-color);\n",
              "      border-left-color: var(--fill-color);\n",
              "    }\n",
              "    20% {\n",
              "      border-color: transparent;\n",
              "      border-left-color: var(--fill-color);\n",
              "      border-top-color: var(--fill-color);\n",
              "    }\n",
              "    30% {\n",
              "      border-color: transparent;\n",
              "      border-left-color: var(--fill-color);\n",
              "      border-top-color: var(--fill-color);\n",
              "      border-right-color: var(--fill-color);\n",
              "    }\n",
              "    40% {\n",
              "      border-color: transparent;\n",
              "      border-right-color: var(--fill-color);\n",
              "      border-top-color: var(--fill-color);\n",
              "    }\n",
              "    60% {\n",
              "      border-color: transparent;\n",
              "      border-right-color: var(--fill-color);\n",
              "    }\n",
              "    80% {\n",
              "      border-color: transparent;\n",
              "      border-right-color: var(--fill-color);\n",
              "      border-bottom-color: var(--fill-color);\n",
              "    }\n",
              "    90% {\n",
              "      border-color: transparent;\n",
              "      border-bottom-color: var(--fill-color);\n",
              "    }\n",
              "  }\n",
              "</style>\n",
              "\n",
              "  <script>\n",
              "    async function quickchart(key) {\n",
              "      const quickchartButtonEl =\n",
              "        document.querySelector('#' + key + ' button');\n",
              "      quickchartButtonEl.disabled = true;  // To prevent multiple clicks.\n",
              "      quickchartButtonEl.classList.add('colab-df-spinner');\n",
              "      try {\n",
              "        const charts = await google.colab.kernel.invokeFunction(\n",
              "            'suggestCharts', [key], {});\n",
              "      } catch (error) {\n",
              "        console.error('Error during call to suggestCharts:', error);\n",
              "      }\n",
              "      quickchartButtonEl.classList.remove('colab-df-spinner');\n",
              "      quickchartButtonEl.classList.add('colab-df-quickchart-complete');\n",
              "    }\n",
              "    (() => {\n",
              "      let quickchartButtonEl =\n",
              "        document.querySelector('#df-081ce180-999d-4abd-84b7-ee8701c1a935 button');\n",
              "      quickchartButtonEl.style.display =\n",
              "        google.colab.kernel.accessAllowed ? 'block' : 'none';\n",
              "    })();\n",
              "  </script>\n",
              "</div>\n",
              "\n",
              "    </div>\n",
              "  </div>\n"
            ],
            "application/vnd.google.colaboratory.intrinsic+json": {
              "type": "dataframe",
              "variable_name": "df",
              "summary": "{\n  \"name\": \"df\",\n  \"rows\": 545,\n  \"fields\": [\n    {\n      \"column\": \"price\",\n      \"properties\": {\n        \"dtype\": \"number\",\n        \"std\": 1870439,\n        \"min\": 1750000,\n        \"max\": 13300000,\n        \"num_unique_values\": 219,\n        \"samples\": [\n          3773000,\n          5285000,\n          1820000\n        ],\n        \"semantic_type\": \"\",\n        \"description\": \"\"\n      }\n    },\n    {\n      \"column\": \"area\",\n      \"properties\": {\n        \"dtype\": \"number\",\n        \"std\": 2170,\n        \"min\": 1650,\n        \"max\": 16200,\n        \"num_unique_values\": 284,\n        \"samples\": [\n          6000,\n          2684,\n          5360\n        ],\n        \"semantic_type\": \"\",\n        \"description\": \"\"\n      }\n    },\n    {\n      \"column\": \"bedrooms\",\n      \"properties\": {\n        \"dtype\": \"number\",\n        \"std\": 0,\n        \"min\": 1,\n        \"max\": 6,\n        \"num_unique_values\": 6,\n        \"samples\": [\n          4,\n          3,\n          1\n        ],\n        \"semantic_type\": \"\",\n        \"description\": \"\"\n      }\n    },\n    {\n      \"column\": \"bathrooms\",\n      \"properties\": {\n        \"dtype\": \"number\",\n        \"std\": 0,\n        \"min\": 1,\n        \"max\": 4,\n        \"num_unique_values\": 4,\n        \"samples\": [\n          4,\n          3,\n          2\n        ],\n        \"semantic_type\": \"\",\n        \"description\": \"\"\n      }\n    },\n    {\n      \"column\": \"stories\",\n      \"properties\": {\n        \"dtype\": \"number\",\n        \"std\": 0,\n        \"min\": 1,\n        \"max\": 4,\n        \"num_unique_values\": 4,\n        \"samples\": [\n          4,\n          1,\n          3\n        ],\n        \"semantic_type\": \"\",\n        \"description\": \"\"\n      }\n    },\n    {\n      \"column\": \"mainroad\",\n      \"properties\": {\n        \"dtype\": \"category\",\n        \"num_unique_values\": 2,\n        \"samples\": [\n          \"no\",\n          \"yes\"\n        ],\n        \"semantic_type\": \"\",\n        \"description\": \"\"\n      }\n    },\n    {\n      \"column\": \"guestroom\",\n      \"properties\": {\n        \"dtype\": \"category\",\n        \"num_unique_values\": 2,\n        \"samples\": [\n          \"yes\",\n          \"no\"\n        ],\n        \"semantic_type\": \"\",\n        \"description\": \"\"\n      }\n    },\n    {\n      \"column\": \"basement\",\n      \"properties\": {\n        \"dtype\": \"category\",\n        \"num_unique_values\": 2,\n        \"samples\": [\n          \"yes\",\n          \"no\"\n        ],\n        \"semantic_type\": \"\",\n        \"description\": \"\"\n      }\n    },\n    {\n      \"column\": \"hotwaterheating\",\n      \"properties\": {\n        \"dtype\": \"category\",\n        \"num_unique_values\": 2,\n        \"samples\": [\n          \"yes\",\n          \"no\"\n        ],\n        \"semantic_type\": \"\",\n        \"description\": \"\"\n      }\n    },\n    {\n      \"column\": \"airconditioning\",\n      \"properties\": {\n        \"dtype\": \"category\",\n        \"num_unique_values\": 2,\n        \"samples\": [\n          \"no\",\n          \"yes\"\n        ],\n        \"semantic_type\": \"\",\n        \"description\": \"\"\n      }\n    },\n    {\n      \"column\": \"parking\",\n      \"properties\": {\n        \"dtype\": \"number\",\n        \"std\": 0,\n        \"min\": 0,\n        \"max\": 3,\n        \"num_unique_values\": 4,\n        \"samples\": [\n          3,\n          1\n        ],\n        \"semantic_type\": \"\",\n        \"description\": \"\"\n      }\n    },\n    {\n      \"column\": \"prefarea\",\n      \"properties\": {\n        \"dtype\": \"category\",\n        \"num_unique_values\": 2,\n        \"samples\": [\n          \"no\",\n          \"yes\"\n        ],\n        \"semantic_type\": \"\",\n        \"description\": \"\"\n      }\n    },\n    {\n      \"column\": \"furnishingstatus\",\n      \"properties\": {\n        \"dtype\": \"category\",\n        \"num_unique_values\": 3,\n        \"samples\": [\n          \"furnished\",\n          \"semi-furnished\"\n        ],\n        \"semantic_type\": \"\",\n        \"description\": \"\"\n      }\n    }\n  ]\n}"
            }
          },
          "metadata": {},
          "execution_count": 3
        }
      ],
      "source": [
        "df.head()"
      ]
    },
    {
      "cell_type": "code",
      "source": [
        "df[df.area <= 3000]"
      ],
      "metadata": {
        "colab": {
          "base_uri": "https://localhost:8080/",
          "height": 439
        },
        "id": "6eYZwi4fChoa",
        "outputId": "120c94ec-e418-44f4-de0c-8515152d830a"
      },
      "execution_count": null,
      "outputs": [
        {
          "output_type": "execute_result",
          "data": {
            "text/plain": [
              "       price  area  bedrooms  bathrooms  stories mainroad guestroom basement  \\\n",
              "157  5495000  2817         4          2        2       no       yes      yes   \n",
              "184  5110000  3000         3          2        2      yes       yes      yes   \n",
              "185  5110000  3000         3          1        2      yes        no      yes   \n",
              "197  4956000  2800         3          2        2       no        no      yes   \n",
              "207  4900000  3000         3          1        2      yes        no      yes   \n",
              "..       ...   ...       ...        ...      ...      ...       ...      ...   \n",
              "537  1890000  1700         3          1        2      yes        no       no   \n",
              "539  1855000  2990         2          1        1       no        no       no   \n",
              "540  1820000  3000         2          1        1      yes        no      yes   \n",
              "541  1767150  2400         3          1        1       no        no       no   \n",
              "543  1750000  2910         3          1        1       no        no       no   \n",
              "\n",
              "    hotwaterheating airconditioning  parking prefarea furnishingstatus  \n",
              "157              no              no        1       no        furnished  \n",
              "184              no              no        0       no        furnished  \n",
              "185              no              no        0       no      unfurnished  \n",
              "197              no             yes        1       no   semi-furnished  \n",
              "207              no             yes        0       no   semi-furnished  \n",
              "..              ...             ...      ...      ...              ...  \n",
              "537              no              no        0       no      unfurnished  \n",
              "539              no              no        1       no      unfurnished  \n",
              "540              no              no        2       no      unfurnished  \n",
              "541              no              no        0       no   semi-furnished  \n",
              "543              no              no        0       no        furnished  \n",
              "\n",
              "[66 rows x 13 columns]"
            ],
            "text/html": [
              "\n",
              "  <div id=\"df-f3750711-ef14-4292-9d0d-110d1006f763\" class=\"colab-df-container\">\n",
              "    <div>\n",
              "<style scoped>\n",
              "    .dataframe tbody tr th:only-of-type {\n",
              "        vertical-align: middle;\n",
              "    }\n",
              "\n",
              "    .dataframe tbody tr th {\n",
              "        vertical-align: top;\n",
              "    }\n",
              "\n",
              "    .dataframe thead th {\n",
              "        text-align: right;\n",
              "    }\n",
              "</style>\n",
              "<table border=\"1\" class=\"dataframe\">\n",
              "  <thead>\n",
              "    <tr style=\"text-align: right;\">\n",
              "      <th></th>\n",
              "      <th>price</th>\n",
              "      <th>area</th>\n",
              "      <th>bedrooms</th>\n",
              "      <th>bathrooms</th>\n",
              "      <th>stories</th>\n",
              "      <th>mainroad</th>\n",
              "      <th>guestroom</th>\n",
              "      <th>basement</th>\n",
              "      <th>hotwaterheating</th>\n",
              "      <th>airconditioning</th>\n",
              "      <th>parking</th>\n",
              "      <th>prefarea</th>\n",
              "      <th>furnishingstatus</th>\n",
              "    </tr>\n",
              "  </thead>\n",
              "  <tbody>\n",
              "    <tr>\n",
              "      <th>157</th>\n",
              "      <td>5495000</td>\n",
              "      <td>2817</td>\n",
              "      <td>4</td>\n",
              "      <td>2</td>\n",
              "      <td>2</td>\n",
              "      <td>no</td>\n",
              "      <td>yes</td>\n",
              "      <td>yes</td>\n",
              "      <td>no</td>\n",
              "      <td>no</td>\n",
              "      <td>1</td>\n",
              "      <td>no</td>\n",
              "      <td>furnished</td>\n",
              "    </tr>\n",
              "    <tr>\n",
              "      <th>184</th>\n",
              "      <td>5110000</td>\n",
              "      <td>3000</td>\n",
              "      <td>3</td>\n",
              "      <td>2</td>\n",
              "      <td>2</td>\n",
              "      <td>yes</td>\n",
              "      <td>yes</td>\n",
              "      <td>yes</td>\n",
              "      <td>no</td>\n",
              "      <td>no</td>\n",
              "      <td>0</td>\n",
              "      <td>no</td>\n",
              "      <td>furnished</td>\n",
              "    </tr>\n",
              "    <tr>\n",
              "      <th>185</th>\n",
              "      <td>5110000</td>\n",
              "      <td>3000</td>\n",
              "      <td>3</td>\n",
              "      <td>1</td>\n",
              "      <td>2</td>\n",
              "      <td>yes</td>\n",
              "      <td>no</td>\n",
              "      <td>yes</td>\n",
              "      <td>no</td>\n",
              "      <td>no</td>\n",
              "      <td>0</td>\n",
              "      <td>no</td>\n",
              "      <td>unfurnished</td>\n",
              "    </tr>\n",
              "    <tr>\n",
              "      <th>197</th>\n",
              "      <td>4956000</td>\n",
              "      <td>2800</td>\n",
              "      <td>3</td>\n",
              "      <td>2</td>\n",
              "      <td>2</td>\n",
              "      <td>no</td>\n",
              "      <td>no</td>\n",
              "      <td>yes</td>\n",
              "      <td>no</td>\n",
              "      <td>yes</td>\n",
              "      <td>1</td>\n",
              "      <td>no</td>\n",
              "      <td>semi-furnished</td>\n",
              "    </tr>\n",
              "    <tr>\n",
              "      <th>207</th>\n",
              "      <td>4900000</td>\n",
              "      <td>3000</td>\n",
              "      <td>3</td>\n",
              "      <td>1</td>\n",
              "      <td>2</td>\n",
              "      <td>yes</td>\n",
              "      <td>no</td>\n",
              "      <td>yes</td>\n",
              "      <td>no</td>\n",
              "      <td>yes</td>\n",
              "      <td>0</td>\n",
              "      <td>no</td>\n",
              "      <td>semi-furnished</td>\n",
              "    </tr>\n",
              "    <tr>\n",
              "      <th>...</th>\n",
              "      <td>...</td>\n",
              "      <td>...</td>\n",
              "      <td>...</td>\n",
              "      <td>...</td>\n",
              "      <td>...</td>\n",
              "      <td>...</td>\n",
              "      <td>...</td>\n",
              "      <td>...</td>\n",
              "      <td>...</td>\n",
              "      <td>...</td>\n",
              "      <td>...</td>\n",
              "      <td>...</td>\n",
              "      <td>...</td>\n",
              "    </tr>\n",
              "    <tr>\n",
              "      <th>537</th>\n",
              "      <td>1890000</td>\n",
              "      <td>1700</td>\n",
              "      <td>3</td>\n",
              "      <td>1</td>\n",
              "      <td>2</td>\n",
              "      <td>yes</td>\n",
              "      <td>no</td>\n",
              "      <td>no</td>\n",
              "      <td>no</td>\n",
              "      <td>no</td>\n",
              "      <td>0</td>\n",
              "      <td>no</td>\n",
              "      <td>unfurnished</td>\n",
              "    </tr>\n",
              "    <tr>\n",
              "      <th>539</th>\n",
              "      <td>1855000</td>\n",
              "      <td>2990</td>\n",
              "      <td>2</td>\n",
              "      <td>1</td>\n",
              "      <td>1</td>\n",
              "      <td>no</td>\n",
              "      <td>no</td>\n",
              "      <td>no</td>\n",
              "      <td>no</td>\n",
              "      <td>no</td>\n",
              "      <td>1</td>\n",
              "      <td>no</td>\n",
              "      <td>unfurnished</td>\n",
              "    </tr>\n",
              "    <tr>\n",
              "      <th>540</th>\n",
              "      <td>1820000</td>\n",
              "      <td>3000</td>\n",
              "      <td>2</td>\n",
              "      <td>1</td>\n",
              "      <td>1</td>\n",
              "      <td>yes</td>\n",
              "      <td>no</td>\n",
              "      <td>yes</td>\n",
              "      <td>no</td>\n",
              "      <td>no</td>\n",
              "      <td>2</td>\n",
              "      <td>no</td>\n",
              "      <td>unfurnished</td>\n",
              "    </tr>\n",
              "    <tr>\n",
              "      <th>541</th>\n",
              "      <td>1767150</td>\n",
              "      <td>2400</td>\n",
              "      <td>3</td>\n",
              "      <td>1</td>\n",
              "      <td>1</td>\n",
              "      <td>no</td>\n",
              "      <td>no</td>\n",
              "      <td>no</td>\n",
              "      <td>no</td>\n",
              "      <td>no</td>\n",
              "      <td>0</td>\n",
              "      <td>no</td>\n",
              "      <td>semi-furnished</td>\n",
              "    </tr>\n",
              "    <tr>\n",
              "      <th>543</th>\n",
              "      <td>1750000</td>\n",
              "      <td>2910</td>\n",
              "      <td>3</td>\n",
              "      <td>1</td>\n",
              "      <td>1</td>\n",
              "      <td>no</td>\n",
              "      <td>no</td>\n",
              "      <td>no</td>\n",
              "      <td>no</td>\n",
              "      <td>no</td>\n",
              "      <td>0</td>\n",
              "      <td>no</td>\n",
              "      <td>furnished</td>\n",
              "    </tr>\n",
              "  </tbody>\n",
              "</table>\n",
              "<p>66 rows × 13 columns</p>\n",
              "</div>\n",
              "    <div class=\"colab-df-buttons\">\n",
              "\n",
              "  <div class=\"colab-df-container\">\n",
              "    <button class=\"colab-df-convert\" onclick=\"convertToInteractive('df-f3750711-ef14-4292-9d0d-110d1006f763')\"\n",
              "            title=\"Convert this dataframe to an interactive table.\"\n",
              "            style=\"display:none;\">\n",
              "\n",
              "  <svg xmlns=\"http://www.w3.org/2000/svg\" height=\"24px\" viewBox=\"0 -960 960 960\">\n",
              "    <path d=\"M120-120v-720h720v720H120Zm60-500h600v-160H180v160Zm220 220h160v-160H400v160Zm0 220h160v-160H400v160ZM180-400h160v-160H180v160Zm440 0h160v-160H620v160ZM180-180h160v-160H180v160Zm440 0h160v-160H620v160Z\"/>\n",
              "  </svg>\n",
              "    </button>\n",
              "\n",
              "  <style>\n",
              "    .colab-df-container {\n",
              "      display:flex;\n",
              "      gap: 12px;\n",
              "    }\n",
              "\n",
              "    .colab-df-convert {\n",
              "      background-color: #E8F0FE;\n",
              "      border: none;\n",
              "      border-radius: 50%;\n",
              "      cursor: pointer;\n",
              "      display: none;\n",
              "      fill: #1967D2;\n",
              "      height: 32px;\n",
              "      padding: 0 0 0 0;\n",
              "      width: 32px;\n",
              "    }\n",
              "\n",
              "    .colab-df-convert:hover {\n",
              "      background-color: #E2EBFA;\n",
              "      box-shadow: 0px 1px 2px rgba(60, 64, 67, 0.3), 0px 1px 3px 1px rgba(60, 64, 67, 0.15);\n",
              "      fill: #174EA6;\n",
              "    }\n",
              "\n",
              "    .colab-df-buttons div {\n",
              "      margin-bottom: 4px;\n",
              "    }\n",
              "\n",
              "    [theme=dark] .colab-df-convert {\n",
              "      background-color: #3B4455;\n",
              "      fill: #D2E3FC;\n",
              "    }\n",
              "\n",
              "    [theme=dark] .colab-df-convert:hover {\n",
              "      background-color: #434B5C;\n",
              "      box-shadow: 0px 1px 3px 1px rgba(0, 0, 0, 0.15);\n",
              "      filter: drop-shadow(0px 1px 2px rgba(0, 0, 0, 0.3));\n",
              "      fill: #FFFFFF;\n",
              "    }\n",
              "  </style>\n",
              "\n",
              "    <script>\n",
              "      const buttonEl =\n",
              "        document.querySelector('#df-f3750711-ef14-4292-9d0d-110d1006f763 button.colab-df-convert');\n",
              "      buttonEl.style.display =\n",
              "        google.colab.kernel.accessAllowed ? 'block' : 'none';\n",
              "\n",
              "      async function convertToInteractive(key) {\n",
              "        const element = document.querySelector('#df-f3750711-ef14-4292-9d0d-110d1006f763');\n",
              "        const dataTable =\n",
              "          await google.colab.kernel.invokeFunction('convertToInteractive',\n",
              "                                                    [key], {});\n",
              "        if (!dataTable) return;\n",
              "\n",
              "        const docLinkHtml = 'Like what you see? Visit the ' +\n",
              "          '<a target=\"_blank\" href=https://colab.research.google.com/notebooks/data_table.ipynb>data table notebook</a>'\n",
              "          + ' to learn more about interactive tables.';\n",
              "        element.innerHTML = '';\n",
              "        dataTable['output_type'] = 'display_data';\n",
              "        await google.colab.output.renderOutput(dataTable, element);\n",
              "        const docLink = document.createElement('div');\n",
              "        docLink.innerHTML = docLinkHtml;\n",
              "        element.appendChild(docLink);\n",
              "      }\n",
              "    </script>\n",
              "  </div>\n",
              "\n",
              "\n",
              "<div id=\"df-b7f8184b-62ca-4c22-a2f9-88f4c1402cce\">\n",
              "  <button class=\"colab-df-quickchart\" onclick=\"quickchart('df-b7f8184b-62ca-4c22-a2f9-88f4c1402cce')\"\n",
              "            title=\"Suggest charts\"\n",
              "            style=\"display:none;\">\n",
              "\n",
              "<svg xmlns=\"http://www.w3.org/2000/svg\" height=\"24px\"viewBox=\"0 0 24 24\"\n",
              "     width=\"24px\">\n",
              "    <g>\n",
              "        <path d=\"M19 3H5c-1.1 0-2 .9-2 2v14c0 1.1.9 2 2 2h14c1.1 0 2-.9 2-2V5c0-1.1-.9-2-2-2zM9 17H7v-7h2v7zm4 0h-2V7h2v10zm4 0h-2v-4h2v4z\"/>\n",
              "    </g>\n",
              "</svg>\n",
              "  </button>\n",
              "\n",
              "<style>\n",
              "  .colab-df-quickchart {\n",
              "      --bg-color: #E8F0FE;\n",
              "      --fill-color: #1967D2;\n",
              "      --hover-bg-color: #E2EBFA;\n",
              "      --hover-fill-color: #174EA6;\n",
              "      --disabled-fill-color: #AAA;\n",
              "      --disabled-bg-color: #DDD;\n",
              "  }\n",
              "\n",
              "  [theme=dark] .colab-df-quickchart {\n",
              "      --bg-color: #3B4455;\n",
              "      --fill-color: #D2E3FC;\n",
              "      --hover-bg-color: #434B5C;\n",
              "      --hover-fill-color: #FFFFFF;\n",
              "      --disabled-bg-color: #3B4455;\n",
              "      --disabled-fill-color: #666;\n",
              "  }\n",
              "\n",
              "  .colab-df-quickchart {\n",
              "    background-color: var(--bg-color);\n",
              "    border: none;\n",
              "    border-radius: 50%;\n",
              "    cursor: pointer;\n",
              "    display: none;\n",
              "    fill: var(--fill-color);\n",
              "    height: 32px;\n",
              "    padding: 0;\n",
              "    width: 32px;\n",
              "  }\n",
              "\n",
              "  .colab-df-quickchart:hover {\n",
              "    background-color: var(--hover-bg-color);\n",
              "    box-shadow: 0 1px 2px rgba(60, 64, 67, 0.3), 0 1px 3px 1px rgba(60, 64, 67, 0.15);\n",
              "    fill: var(--button-hover-fill-color);\n",
              "  }\n",
              "\n",
              "  .colab-df-quickchart-complete:disabled,\n",
              "  .colab-df-quickchart-complete:disabled:hover {\n",
              "    background-color: var(--disabled-bg-color);\n",
              "    fill: var(--disabled-fill-color);\n",
              "    box-shadow: none;\n",
              "  }\n",
              "\n",
              "  .colab-df-spinner {\n",
              "    border: 2px solid var(--fill-color);\n",
              "    border-color: transparent;\n",
              "    border-bottom-color: var(--fill-color);\n",
              "    animation:\n",
              "      spin 1s steps(1) infinite;\n",
              "  }\n",
              "\n",
              "  @keyframes spin {\n",
              "    0% {\n",
              "      border-color: transparent;\n",
              "      border-bottom-color: var(--fill-color);\n",
              "      border-left-color: var(--fill-color);\n",
              "    }\n",
              "    20% {\n",
              "      border-color: transparent;\n",
              "      border-left-color: var(--fill-color);\n",
              "      border-top-color: var(--fill-color);\n",
              "    }\n",
              "    30% {\n",
              "      border-color: transparent;\n",
              "      border-left-color: var(--fill-color);\n",
              "      border-top-color: var(--fill-color);\n",
              "      border-right-color: var(--fill-color);\n",
              "    }\n",
              "    40% {\n",
              "      border-color: transparent;\n",
              "      border-right-color: var(--fill-color);\n",
              "      border-top-color: var(--fill-color);\n",
              "    }\n",
              "    60% {\n",
              "      border-color: transparent;\n",
              "      border-right-color: var(--fill-color);\n",
              "    }\n",
              "    80% {\n",
              "      border-color: transparent;\n",
              "      border-right-color: var(--fill-color);\n",
              "      border-bottom-color: var(--fill-color);\n",
              "    }\n",
              "    90% {\n",
              "      border-color: transparent;\n",
              "      border-bottom-color: var(--fill-color);\n",
              "    }\n",
              "  }\n",
              "</style>\n",
              "\n",
              "  <script>\n",
              "    async function quickchart(key) {\n",
              "      const quickchartButtonEl =\n",
              "        document.querySelector('#' + key + ' button');\n",
              "      quickchartButtonEl.disabled = true;  // To prevent multiple clicks.\n",
              "      quickchartButtonEl.classList.add('colab-df-spinner');\n",
              "      try {\n",
              "        const charts = await google.colab.kernel.invokeFunction(\n",
              "            'suggestCharts', [key], {});\n",
              "      } catch (error) {\n",
              "        console.error('Error during call to suggestCharts:', error);\n",
              "      }\n",
              "      quickchartButtonEl.classList.remove('colab-df-spinner');\n",
              "      quickchartButtonEl.classList.add('colab-df-quickchart-complete');\n",
              "    }\n",
              "    (() => {\n",
              "      let quickchartButtonEl =\n",
              "        document.querySelector('#df-b7f8184b-62ca-4c22-a2f9-88f4c1402cce button');\n",
              "      quickchartButtonEl.style.display =\n",
              "        google.colab.kernel.accessAllowed ? 'block' : 'none';\n",
              "    })();\n",
              "  </script>\n",
              "</div>\n",
              "\n",
              "    </div>\n",
              "  </div>\n"
            ],
            "application/vnd.google.colaboratory.intrinsic+json": {
              "type": "dataframe",
              "summary": "{\n  \"name\": \"df[df\",\n  \"rows\": 66,\n  \"fields\": [\n    {\n      \"column\": \"price\",\n      \"properties\": {\n        \"dtype\": \"number\",\n        \"std\": 942103,\n        \"min\": 1750000,\n        \"max\": 5495000,\n        \"num_unique_values\": 48,\n        \"samples\": [\n          3080000,\n          2240000,\n          3115000\n        ],\n        \"semantic_type\": \"\",\n        \"description\": \"\"\n      }\n    },\n    {\n      \"column\": \"area\",\n      \"properties\": {\n        \"dtype\": \"number\",\n        \"std\": 395,\n        \"min\": 1650,\n        \"max\": 3000,\n        \"num_unique_values\": 40,\n        \"samples\": [\n          2850,\n          2176,\n          2015\n        ],\n        \"semantic_type\": \"\",\n        \"description\": \"\"\n      }\n    },\n    {\n      \"column\": \"bedrooms\",\n      \"properties\": {\n        \"dtype\": \"number\",\n        \"std\": 0,\n        \"min\": 2,\n        \"max\": 5,\n        \"num_unique_values\": 4,\n        \"samples\": [\n          3,\n          5,\n          4\n        ],\n        \"semantic_type\": \"\",\n        \"description\": \"\"\n      }\n    },\n    {\n      \"column\": \"bathrooms\",\n      \"properties\": {\n        \"dtype\": \"number\",\n        \"std\": 0,\n        \"min\": 1,\n        \"max\": 3,\n        \"num_unique_values\": 3,\n        \"samples\": [\n          2,\n          1,\n          3\n        ],\n        \"semantic_type\": \"\",\n        \"description\": \"\"\n      }\n    },\n    {\n      \"column\": \"stories\",\n      \"properties\": {\n        \"dtype\": \"number\",\n        \"std\": 0,\n        \"min\": 1,\n        \"max\": 3,\n        \"num_unique_values\": 3,\n        \"samples\": [\n          2,\n          3,\n          1\n        ],\n        \"semantic_type\": \"\",\n        \"description\": \"\"\n      }\n    },\n    {\n      \"column\": \"mainroad\",\n      \"properties\": {\n        \"dtype\": \"category\",\n        \"num_unique_values\": 2,\n        \"samples\": [\n          \"yes\",\n          \"no\"\n        ],\n        \"semantic_type\": \"\",\n        \"description\": \"\"\n      }\n    },\n    {\n      \"column\": \"guestroom\",\n      \"properties\": {\n        \"dtype\": \"category\",\n        \"num_unique_values\": 2,\n        \"samples\": [\n          \"no\",\n          \"yes\"\n        ],\n        \"semantic_type\": \"\",\n        \"description\": \"\"\n      }\n    },\n    {\n      \"column\": \"basement\",\n      \"properties\": {\n        \"dtype\": \"category\",\n        \"num_unique_values\": 2,\n        \"samples\": [\n          \"no\",\n          \"yes\"\n        ],\n        \"semantic_type\": \"\",\n        \"description\": \"\"\n      }\n    },\n    {\n      \"column\": \"hotwaterheating\",\n      \"properties\": {\n        \"dtype\": \"category\",\n        \"num_unique_values\": 2,\n        \"samples\": [\n          \"yes\",\n          \"no\"\n        ],\n        \"semantic_type\": \"\",\n        \"description\": \"\"\n      }\n    },\n    {\n      \"column\": \"airconditioning\",\n      \"properties\": {\n        \"dtype\": \"category\",\n        \"num_unique_values\": 2,\n        \"samples\": [\n          \"yes\",\n          \"no\"\n        ],\n        \"semantic_type\": \"\",\n        \"description\": \"\"\n      }\n    },\n    {\n      \"column\": \"parking\",\n      \"properties\": {\n        \"dtype\": \"number\",\n        \"std\": 0,\n        \"min\": 0,\n        \"max\": 2,\n        \"num_unique_values\": 3,\n        \"samples\": [\n          1,\n          0\n        ],\n        \"semantic_type\": \"\",\n        \"description\": \"\"\n      }\n    },\n    {\n      \"column\": \"prefarea\",\n      \"properties\": {\n        \"dtype\": \"category\",\n        \"num_unique_values\": 2,\n        \"samples\": [\n          \"yes\",\n          \"no\"\n        ],\n        \"semantic_type\": \"\",\n        \"description\": \"\"\n      }\n    },\n    {\n      \"column\": \"furnishingstatus\",\n      \"properties\": {\n        \"dtype\": \"category\",\n        \"num_unique_values\": 3,\n        \"samples\": [\n          \"furnished\",\n          \"unfurnished\"\n        ],\n        \"semantic_type\": \"\",\n        \"description\": \"\"\n      }\n    }\n  ]\n}"
            }
          },
          "metadata": {},
          "execution_count": 21
        }
      ]
    },
    {
      "cell_type": "code",
      "source": [
        "plt.figure(figsize=(10,6))\n",
        "sns.scatterplot(x=\"area\", y=\"price\", data=df)"
      ],
      "metadata": {
        "colab": {
          "base_uri": "https://localhost:8080/",
          "height": 574
        },
        "id": "cBigVw9WLlUN",
        "outputId": "6274a15c-4209-4de9-8497-9e3aaf642c57"
      },
      "execution_count": null,
      "outputs": [
        {
          "output_type": "execute_result",
          "data": {
            "text/plain": [
              "<Axes: xlabel='area', ylabel='price'>"
            ]
          },
          "metadata": {},
          "execution_count": 4
        },
        {
          "output_type": "display_data",
          "data": {
            "text/plain": [
              "<Figure size 1000x600 with 1 Axes>"
            ],
            "image/png": "[encoded data removed]"
          },
          "metadata": {}
        }
      ]
    },
    {
      "cell_type": "code",
      "source": [
        "def h(w_0, w_1, x):\n",
        "    return w_0 + w_1 * x\n",
        "\n",
        "def loss(w_0, w_1, x, y):\n",
        "    return (h(w_0, w_1, x) - y)**2\n",
        "\n",
        "def cost(w_0, w_1, df):\n",
        "    m = len(df)\n",
        "    cost = np.zeros_like(w_0)\n",
        "    for _, row in df.iterrows():\n",
        "        cost += loss(w_0, w_1, row.area, row.price)\n",
        "    cost = cost / (2*m)\n",
        "\n",
        "    return cost"
      ],
      "metadata": {
        "id": "7n1244qGNd6Y"
      },
      "execution_count": null,
      "outputs": []
    },
    {
      "cell_type": "code",
      "source": [
        "number_of_samples = 100\n",
        "\n",
        "w_0 = np.zeros(number_of_samples, dtype=float)\n",
        "w_1_range = np.linspace(0, 1700, num=number_of_samples)\n",
        "cost_values = cost(w_0, w_1_range, df)\n",
        "sns.lineplot(x=w_1_range, y=cost_values)"
      ],
      "metadata": {
        "colab": {
          "base_uri": "https://localhost:8080/",
          "height": 462
        },
        "id": "OEaut-h0NRYX",
        "outputId": "ca24beeb-31b8-457d-e94e-6c9474b43774"
      },
      "execution_count": null,
      "outputs": [
        {
          "output_type": "execute_result",
          "data": {
            "text/plain": [
              "<Axes: >"
            ]
          },
          "metadata": {},
          "execution_count": 6
        },
        {
          "output_type": "display_data",
          "data": {
            "text/plain": [
              "<Figure size 640x480 with 1 Axes>"
            ],
            "image/png": "[encoded data removed]"
          },
          "metadata": {}
        }
      ]
    },
    {
      "cell_type": "code",
      "source": [],
      "metadata": {
        "id": "zOA2FnQvkMBC"
      },
      "execution_count": null,
      "outputs": []
    },
    {
      "cell_type": "code",
      "source": [
        "import plotly.express as px\n",
        "\n",
        "fig = px.line(x=w_1_range, y=cost_values, title='Cost function')\n",
        "fig.show()"
      ],
      "metadata": {
        "colab": {
          "base_uri": "https://localhost:8080/",
          "height": 542
        },
        "id": "8fSaVaAhiKsl",
        "outputId": "46439080-b4c0-452d-b79e-056af2ccf2eb"
      },
      "execution_count": null,
      "outputs": [
        {
          "output_type": "display_data",
          "data": {
            "text/html": [
              "<html>\n",
              "<head><meta charset=\"utf-8\" /></head>\n",
              "<body>\n",
              "    <div>            <script src=\"https://cdnjs.cloudflare.com/ajax/libs/mathjax/2.7.5/MathJax.js?config=TeX-AMS-MML_SVG\"></script><script type=\"text/javascript\">if (window.MathJax && window.MathJax.Hub && window.MathJax.Hub.Config) {window.MathJax.Hub.Config({SVG: {font: \"STIX-Web\"}});}</script>                <script type=\"text/javascript\">window.PlotlyConfig = {MathJaxConfig: 'local'};</script>\n",
              "        <script charset=\"utf-8\" src=\"https://cdn.plot.ly/plotly-2.24.1.min.js\"></script>                <div id=\"1a5f5547-36b6-425b-ba85-ad84ac9c40f1\" class=\"plotly-graph-div\" style=\"height:525px; width:100%;\"></div>            <script type=\"text/javascript\">                                    window.PLOTLYENV=window.PLOTLYENV || {};                                    if (document.getElementById(\"1a5f5547-36b6-425b-ba85-ad84ac9c40f1\")) {                    Plotly.newPlot(                        \"1a5f5547-36b6-425b-ba85-ad84ac9c40f1\",                        [{\"hovertemplate\":\"x=%{x}\\u003cbr\\u003ey=%{y}\\u003cextra\\u003e\\u003c\\u002fextra\\u003e\",\"legendgroup\":\"\",\"line\":{\"color\":\"#636efa\",\"dash\":\"solid\"},\"marker\":{\"symbol\":\"circle\"},\"mode\":\"lines\",\"name\":\"\",\"orientation\":\"v\",\"showlegend\":false,\"x\":[0.0,17.171717171717173,34.343434343434346,51.515151515151516,68.68686868686869,85.85858585858587,103.03030303030303,120.20202020202021,137.37373737373738,154.54545454545456,171.71717171717174,188.8888888888889,206.06060606060606,223.23232323232324,240.40404040404042,257.5757575757576,274.74747474747477,291.9191919191919,309.0909090909091,326.26262626262627,343.4343434343435,360.6060606060606,377.7777777777778,394.949494949495,412.1212121212121,429.29292929292933,446.4646464646465,463.6363636363637,480.80808080808083,497.97979797979804,515.1515151515152,532.3232323232323,549.4949494949495,566.6666666666667,583.8383838383838,601.010101010101,618.1818181818182,635.3535353535354,652.5252525252525,669.6969696969697,686.868686868687,704.040404040404,721.2121212121212,738.3838383838385,755.5555555555557,772.7272727272727,789.89898989899,807.0707070707072,824.2424242424242,841.4141414141415,858.5858585858587,875.7575757575759,892.929292929293,910.1010101010102,927.2727272727274,944.4444444444446,961.6161616161617,978.7878787878789,995.9595959595961,1013.1313131313132,1030.3030303030305,1047.4747474747476,1064.6464646464647,1081.818181818182,1098.989898989899,1116.1616161616162,1133.3333333333335,1150.5050505050506,1167.6767676767677,1184.848484848485,1202.020202020202,1219.1919191919194,1236.3636363636365,1253.5353535353536,1270.707070707071,1287.878787878788,1305.050505050505,1322.2222222222224,1339.3939393939395,1356.5656565656566,1373.737373737374,1390.909090909091,1408.080808080808,1425.2525252525254,1442.4242424242425,1459.5959595959598,1476.767676767677,1493.939393939394,1511.1111111111113,1528.2828282828284,1545.4545454545455,1562.6262626262628,1579.79797979798,1596.969696969697,1614.1414141414143,1631.3131313131314,1648.4848484848485,1665.6565656565658,1682.828282828283,1700.0],\"xaxis\":\"x\",\"y\":[13106916364659.266,12652642146001.445,12207576340233.11,11771718947354.318,11345069967365.027,10927629400265.256,10519397246054.975,10120373504734.215,9730558176302.984,9349951260761.246,8978552758109.016,8616362668346.319,8263380991473.127,7919607727489.431,7585042876395.267,7259686438190.613,6943538412875.466,6636598800449.842,6338867600913.716,6050344814267.11,5771030440510.013,5500924479642.435,5240026931664.353,4988337796575.81,4745857074376.758,4512584765067.215,4288520868647.2017,4073665385116.6953,3868018314475.6963,3671579656724.214,3484349411862.2397,3306327579889.7783,3137514160806.835,2977909154613.3984,2827512561309.471,2686324380895.0635,2554344613370.167,2431573258734.776,2318010316988.8994,2213655788132.539,2118509672165.693,2032571969088.3513,1955842678900.5283,1888321801602.2148,1830009337193.411,1780905285674.1252,1741009647044.351,1710322421304.086,1688843608453.335,1676573208492.097,1673511221420.372,1679657647238.1565,1695012485945.4563,1719575737542.2651,1753347402028.5864,1796327479404.4214,1848515969669.769,1909912872824.6335,1980518188869.002,2060331917802.8875,2149354059626.2854,2247584614339.194,2355023581941.6104,2471670962433.55,2597526755814.9956,2732590962085.949,2876863581246.425,3030344613296.4067,3193034058235.902,3364931916064.907,3546038186783.4297,3736352870391.4634,3935875966889.0054,4144607476276.0635,4362547398552.635,4589695733718.708,4826052481774.304,5071617642719.407,5326391216554.027,5590373203278.155,5863563602891.798,6145962415394.953,6437569640787.626,6738385279069.798,7048409330241.493,7367641794302.692,7696082671253.413,8033731961093.637,8380589663823.376,8736655779442.631,9101930307951.393,9476413249349.693,9860104603637.484,10253004370814.773,10655112550881.584,11066429143837.922,11486954149683.764,11916687568419.107,12355629400043.975,12803779644558.348],\"yaxis\":\"y\",\"type\":\"scatter\"}],                        {\"template\":{\"data\":{\"histogram2dcontour\":[{\"type\":\"histogram2dcontour\",\"colorbar\":{\"outlinewidth\":0,\"ticks\":\"\"},\"colorscale\":[[0.0,\"#0d0887\"],[0.1111111111111111,\"#46039f\"],[0.2222222222222222,\"#7201a8\"],[0.3333333333333333,\"#9c179e\"],[0.4444444444444444,\"#bd3786\"],[0.5555555555555556,\"#d8576b\"],[0.6666666666666666,\"#ed7953\"],[0.7777777777777778,\"#fb9f3a\"],[0.8888888888888888,\"#fdca26\"],[1.0,\"#f0f921\"]]}],\"choropleth\":[{\"type\":\"choropleth\",\"colorbar\":{\"outlinewidth\":0,\"ticks\":\"\"}}],\"histogram2d\":[{\"type\":\"histogram2d\",\"colorbar\":{\"outlinewidth\":0,\"ticks\":\"\"},\"colorscale\":[[0.0,\"#0d0887\"],[0.1111111111111111,\"#46039f\"],[0.2222222222222222,\"#7201a8\"],[0.3333333333333333,\"#9c179e\"],[0.4444444444444444,\"#bd3786\"],[0.5555555555555556,\"#d8576b\"],[0.6666666666666666,\"#ed7953\"],[0.7777777777777778,\"#fb9f3a\"],[0.8888888888888888,\"#fdca26\"],[1.0,\"#f0f921\"]]}],\"heatmap\":[{\"type\":\"heatmap\",\"colorbar\":{\"outlinewidth\":0,\"ticks\":\"\"},\"colorscale\":[[0.0,\"#0d0887\"],[0.1111111111111111,\"#46039f\"],[0.2222222222222222,\"#7201a8\"],[0.3333333333333333,\"#9c179e\"],[0.4444444444444444,\"#bd3786\"],[0.5555555555555556,\"#d8576b\"],[0.6666666666666666,\"#ed7953\"],[0.7777777777777778,\"#fb9f3a\"],[0.8888888888888888,\"#fdca26\"],[1.0,\"#f0f921\"]]}],\"heatmapgl\":[{\"type\":\"heatmapgl\",\"colorbar\":{\"outlinewidth\":0,\"ticks\":\"\"},\"colorscale\":[[0.0,\"#0d0887\"],[0.1111111111111111,\"#46039f\"],[0.2222222222222222,\"#7201a8\"],[0.3333333333333333,\"#9c179e\"],[0.4444444444444444,\"#bd3786\"],[0.5555555555555556,\"#d8576b\"],[0.6666666666666666,\"#ed7953\"],[0.7777777777777778,\"#fb9f3a\"],[0.8888888888888888,\"#fdca26\"],[1.0,\"#f0f921\"]]}],\"contourcarpet\":[{\"type\":\"contourcarpet\",\"colorbar\":{\"outlinewidth\":0,\"ticks\":\"\"}}],\"contour\":[{\"type\":\"contour\",\"colorbar\":{\"outlinewidth\":0,\"ticks\":\"\"},\"colorscale\":[[0.0,\"#0d0887\"],[0.1111111111111111,\"#46039f\"],[0.2222222222222222,\"#7201a8\"],[0.3333333333333333,\"#9c179e\"],[0.4444444444444444,\"#bd3786\"],[0.5555555555555556,\"#d8576b\"],[0.6666666666666666,\"#ed7953\"],[0.7777777777777778,\"#fb9f3a\"],[0.8888888888888888,\"#fdca26\"],[1.0,\"#f0f921\"]]}],\"surface\":[{\"type\":\"surface\",\"colorbar\":{\"outlinewidth\":0,\"ticks\":\"\"},\"colorscale\":[[0.0,\"#0d0887\"],[0.1111111111111111,\"#46039f\"],[0.2222222222222222,\"#7201a8\"],[0.3333333333333333,\"#9c179e\"],[0.4444444444444444,\"#bd3786\"],[0.5555555555555556,\"#d8576b\"],[0.6666666666666666,\"#ed7953\"],[0.7777777777777778,\"#fb9f3a\"],[0.8888888888888888,\"#fdca26\"],[1.0,\"#f0f921\"]]}],\"mesh3d\":[{\"type\":\"mesh3d\",\"colorbar\":{\"outlinewidth\":0,\"ticks\":\"\"}}],\"scatter\":[{\"fillpattern\":{\"fillmode\":\"overlay\",\"size\":10,\"solidity\":0.2},\"type\":\"scatter\"}],\"parcoords\":[{\"type\":\"parcoords\",\"line\":{\"colorbar\":{\"outlinewidth\":0,\"ticks\":\"\"}}}],\"scatterpolargl\":[{\"type\":\"scatterpolargl\",\"marker\":{\"colorbar\":{\"outlinewidth\":0,\"ticks\":\"\"}}}],\"bar\":[{\"error_x\":{\"color\":\"#2a3f5f\"},\"error_y\":{\"color\":\"#2a3f5f\"},\"marker\":{\"line\":{\"color\":\"#E5ECF6\",\"width\":0.5},\"pattern\":{\"fillmode\":\"overlay\",\"size\":10,\"solidity\":0.2}},\"type\":\"bar\"}],\"scattergeo\":[{\"type\":\"scattergeo\",\"marker\":{\"colorbar\":{\"outlinewidth\":0,\"ticks\":\"\"}}}],\"scatterpolar\":[{\"type\":\"scatterpolar\",\"marker\":{\"colorbar\":{\"outlinewidth\":0,\"ticks\":\"\"}}}],\"histogram\":[{\"marker\":{\"pattern\":{\"fillmode\":\"overlay\",\"size\":10,\"solidity\":0.2}},\"type\":\"histogram\"}],\"scattergl\":[{\"type\":\"scattergl\",\"marker\":{\"colorbar\":{\"outlinewidth\":0,\"ticks\":\"\"}}}],\"scatter3d\":[{\"type\":\"scatter3d\",\"line\":{\"colorbar\":{\"outlinewidth\":0,\"ticks\":\"\"}},\"marker\":{\"colorbar\":{\"outlinewidth\":0,\"ticks\":\"\"}}}],\"scattermapbox\":[{\"type\":\"scattermapbox\",\"marker\":{\"colorbar\":{\"outlinewidth\":0,\"ticks\":\"\"}}}],\"scatterternary\":[{\"type\":\"scatterternary\",\"marker\":{\"colorbar\":{\"outlinewidth\":0,\"ticks\":\"\"}}}],\"scattercarpet\":[{\"type\":\"scattercarpet\",\"marker\":{\"colorbar\":{\"outlinewidth\":0,\"ticks\":\"\"}}}],\"carpet\":[{\"aaxis\":{\"endlinecolor\":\"#2a3f5f\",\"gridcolor\":\"white\",\"linecolor\":\"white\",\"minorgridcolor\":\"white\",\"startlinecolor\":\"#2a3f5f\"},\"baxis\":{\"endlinecolor\":\"#2a3f5f\",\"gridcolor\":\"white\",\"linecolor\":\"white\",\"minorgridcolor\":\"white\",\"startlinecolor\":\"#2a3f5f\"},\"type\":\"carpet\"}],\"table\":[{\"cells\":{\"fill\":{\"color\":\"#EBF0F8\"},\"line\":{\"color\":\"white\"}},\"header\":{\"fill\":{\"color\":\"#C8D4E3\"},\"line\":{\"color\":\"white\"}},\"type\":\"table\"}],\"barpolar\":[{\"marker\":{\"line\":{\"color\":\"#E5ECF6\",\"width\":0.5},\"pattern\":{\"fillmode\":\"overlay\",\"size\":10,\"solidity\":0.2}},\"type\":\"barpolar\"}],\"pie\":[{\"automargin\":true,\"type\":\"pie\"}]},\"layout\":{\"autotypenumbers\":\"strict\",\"colorway\":[\"#636efa\",\"#EF553B\",\"#00cc96\",\"#ab63fa\",\"#FFA15A\",\"#19d3f3\",\"#FF6692\",\"#B6E880\",\"#FF97FF\",\"#FECB52\"],\"font\":{\"color\":\"#2a3f5f\"},\"hovermode\":\"closest\",\"hoverlabel\":{\"align\":\"left\"},\"paper_bgcolor\":\"white\",\"plot_bgcolor\":\"#E5ECF6\",\"polar\":{\"bgcolor\":\"#E5ECF6\",\"angularaxis\":{\"gridcolor\":\"white\",\"linecolor\":\"white\",\"ticks\":\"\"},\"radialaxis\":{\"gridcolor\":\"white\",\"linecolor\":\"white\",\"ticks\":\"\"}},\"ternary\":{\"bgcolor\":\"#E5ECF6\",\"aaxis\":{\"gridcolor\":\"white\",\"linecolor\":\"white\",\"ticks\":\"\"},\"baxis\":{\"gridcolor\":\"white\",\"linecolor\":\"white\",\"ticks\":\"\"},\"caxis\":{\"gridcolor\":\"white\",\"linecolor\":\"white\",\"ticks\":\"\"}},\"coloraxis\":{\"colorbar\":{\"outlinewidth\":0,\"ticks\":\"\"}},\"colorscale\":{\"sequential\":[[0.0,\"#0d0887\"],[0.1111111111111111,\"#46039f\"],[0.2222222222222222,\"#7201a8\"],[0.3333333333333333,\"#9c179e\"],[0.4444444444444444,\"#bd3786\"],[0.5555555555555556,\"#d8576b\"],[0.6666666666666666,\"#ed7953\"],[0.7777777777777778,\"#fb9f3a\"],[0.8888888888888888,\"#fdca26\"],[1.0,\"#f0f921\"]],\"sequentialminus\":[[0.0,\"#0d0887\"],[0.1111111111111111,\"#46039f\"],[0.2222222222222222,\"#7201a8\"],[0.3333333333333333,\"#9c179e\"],[0.4444444444444444,\"#bd3786\"],[0.5555555555555556,\"#d8576b\"],[0.6666666666666666,\"#ed7953\"],[0.7777777777777778,\"#fb9f3a\"],[0.8888888888888888,\"#fdca26\"],[1.0,\"#f0f921\"]],\"diverging\":[[0,\"#8e0152\"],[0.1,\"#c51b7d\"],[0.2,\"#de77ae\"],[0.3,\"#f1b6da\"],[0.4,\"#fde0ef\"],[0.5,\"#f7f7f7\"],[0.6,\"#e6f5d0\"],[0.7,\"#b8e186\"],[0.8,\"#7fbc41\"],[0.9,\"#4d9221\"],[1,\"#276419\"]]},\"xaxis\":{\"gridcolor\":\"white\",\"linecolor\":\"white\",\"ticks\":\"\",\"title\":{\"standoff\":15},\"zerolinecolor\":\"white\",\"automargin\":true,\"zerolinewidth\":2},\"yaxis\":{\"gridcolor\":\"white\",\"linecolor\":\"white\",\"ticks\":\"\",\"title\":{\"standoff\":15},\"zerolinecolor\":\"white\",\"automargin\":true,\"zerolinewidth\":2},\"scene\":{\"xaxis\":{\"backgroundcolor\":\"#E5ECF6\",\"gridcolor\":\"white\",\"linecolor\":\"white\",\"showbackground\":true,\"ticks\":\"\",\"zerolinecolor\":\"white\",\"gridwidth\":2},\"yaxis\":{\"backgroundcolor\":\"#E5ECF6\",\"gridcolor\":\"white\",\"linecolor\":\"white\",\"showbackground\":true,\"ticks\":\"\",\"zerolinecolor\":\"white\",\"gridwidth\":2},\"zaxis\":{\"backgroundcolor\":\"#E5ECF6\",\"gridcolor\":\"white\",\"linecolor\":\"white\",\"showbackground\":true,\"ticks\":\"\",\"zerolinecolor\":\"white\",\"gridwidth\":2}},\"shapedefaults\":{\"line\":{\"color\":\"#2a3f5f\"}},\"annotationdefaults\":{\"arrowcolor\":\"#2a3f5f\",\"arrowhead\":0,\"arrowwidth\":1},\"geo\":{\"bgcolor\":\"white\",\"landcolor\":\"#E5ECF6\",\"subunitcolor\":\"white\",\"showland\":true,\"showlakes\":true,\"lakecolor\":\"white\"},\"title\":{\"x\":0.05},\"mapbox\":{\"style\":\"light\"}}},\"xaxis\":{\"anchor\":\"y\",\"domain\":[0.0,1.0],\"title\":{\"text\":\"x\"}},\"yaxis\":{\"anchor\":\"x\",\"domain\":[0.0,1.0],\"title\":{\"text\":\"y\"}},\"legend\":{\"tracegroupgap\":0},\"title\":{\"text\":\"Cost function\"}},                        {\"responsive\": true}                    ).then(function(){\n",
              "                            \n",
              "var gd = document.getElementById('1a5f5547-36b6-425b-ba85-ad84ac9c40f1');\n",
              "var x = new MutationObserver(function (mutations, observer) {{\n",
              "        var display = window.getComputedStyle(gd).display;\n",
              "        if (!display || display === 'none') {{\n",
              "            console.log([gd, 'removed!']);\n",
              "            Plotly.purge(gd);\n",
              "            observer.disconnect();\n",
              "        }}\n",
              "}});\n",
              "\n",
              "// Listen for the removal of the full notebook cells\n",
              "var notebookContainer = gd.closest('#notebook-container');\n",
              "if (notebookContainer) {{\n",
              "    x.observe(notebookContainer, {childList: true});\n",
              "}}\n",
              "\n",
              "// Listen for the clearing of the current output cell\n",
              "var outputEl = gd.closest('.output');\n",
              "if (outputEl) {{\n",
              "    x.observe(outputEl, {childList: true});\n",
              "}}\n",
              "\n",
              "                        })                };                            </script>        </div>\n",
              "</body>\n",
              "</html>"
            ]
          },
          "metadata": {}
        }
      ]
    },
    {
      "cell_type": "code",
      "source": [
        "cost_values.min()"
      ],
      "metadata": {
        "colab": {
          "base_uri": "https://localhost:8080/"
        },
        "id": "beLIlHDWinL_",
        "outputId": "ece22c6a-29ae-47b8-dc74-cdd7c25bf88a"
      },
      "execution_count": null,
      "outputs": [
        {
          "output_type": "execute_result",
          "data": {
            "text/plain": [
              "1673511221420.372"
            ]
          },
          "metadata": {},
          "execution_count": 62
        }
      ]
    },
    {
      "cell_type": "code",
      "source": [],
      "metadata": {
        "id": "XGL2hFyNSAwu"
      },
      "execution_count": null,
      "outputs": []
    },
    {
      "cell_type": "code",
      "source": [],
      "metadata": {
        "id": "JkjmBegoesBo"
      },
      "execution_count": null,
      "outputs": []
    },
    {
      "cell_type": "markdown",
      "source": [
        "# 3D"
      ],
      "metadata": {
        "id": "bqkiaFZl9Mdd"
      }
    },
    {
      "cell_type": "code",
      "source": [
        "grid_w_0 = np.linspace(-10, 10, 40)\n",
        "grid_w_1 = np.linspace(0, 1700, 40)\n",
        "\n",
        "w_0, w_1 = np.meshgrid(grid_w_0, grid_w_1)\n",
        "cost_w0_w1 = cost(w_0, w_1, df)"
      ],
      "metadata": {
        "id": "fgx5O55hSAt8"
      },
      "execution_count": null,
      "outputs": []
    },
    {
      "cell_type": "code",
      "source": [],
      "metadata": {
        "id": "Gz00RdjUnV0w"
      },
      "execution_count": null,
      "outputs": []
    },
    {
      "cell_type": "code",
      "source": [
        "normalized_df = df.copy(deep=True)\n",
        "normalized_df.area = (df.area - df.area.mean()) / df.area.std()\n",
        "normalized_df.price = (df.price - df.price.mean()) / df.price.std()\n",
        "\n",
        "grid_w_0 = np.linspace(-10, 10, 20)\n",
        "grid_w_1 = np.linspace(-10, 10, 20)\n",
        "\n",
        "w_0, w_1 = np.meshgrid(grid_w_0, grid_w_1)\n",
        "cost_w0_w1 = cost(w_0, w_1, normalized_df)"
      ],
      "metadata": {
        "id": "2r1-PQESfZqW"
      },
      "execution_count": null,
      "outputs": []
    },
    {
      "cell_type": "code",
      "source": [
        "normalized_df.area.min()"
      ],
      "metadata": {
        "colab": {
          "base_uri": "https://localhost:8080/"
        },
        "id": "m4RiReET0qtU",
        "outputId": "adfd8e94-c3cc-442b-fc34-8e3a5ba6b6b0"
      },
      "execution_count": null,
      "outputs": [
        {
          "output_type": "execute_result",
          "data": {
            "text/plain": [
              "-1.6130478379496513"
            ]
          },
          "metadata": {},
          "execution_count": 24
        }
      ]
    },
    {
      "cell_type": "code",
      "source": [
        "import plotly.graph_objects as go\n",
        "\n",
        "fig = go.Figure(data=[go.Surface(x=w_0, y=w_1, z=cost_w0_w1)])\n",
        "fig.update_layout(\n",
        "    title='House modeling', autosize=False,\n",
        "    width=1000, height=1000,\n",
        "    margin=dict(l=65, r=50, b=65, t=90),\n",
        "    scene=dict(\n",
        "        xaxis_title='w_0',\n",
        "        yaxis_title='w_1',\n",
        "        zaxis_title='Cost',\n",
        "    ),\n",
        ")\n",
        "fig.show()"
      ],
      "metadata": {
        "colab": {
          "base_uri": "https://localhost:8080/",
          "height": 1000
        },
        "id": "SaW3imEfRbmB",
        "outputId": "2712af8d-c121-42ac-9946-f5aecfec4c4b"
      },
      "execution_count": null,
      "outputs": [
        {
          "output_type": "display_data",
          "data": {
            "text/html": [
              "<html>\n",
              "<head><meta charset=\"utf-8\" /></head>\n",
              "<body>\n",
              "    <div>            <script src=\"https://cdnjs.cloudflare.com/ajax/libs/mathjax/2.7.5/MathJax.js?config=TeX-AMS-MML_SVG\"></script><script type=\"text/javascript\">if (window.MathJax && window.MathJax.Hub && window.MathJax.Hub.Config) {window.MathJax.Hub.Config({SVG: {font: \"STIX-Web\"}});}</script>                <script type=\"text/javascript\">window.PlotlyConfig = {MathJaxConfig: 'local'};</script>\n",
              "        <script charset=\"utf-8\" src=\"https://cdn.plot.ly/plotly-2.24.1.min.js\"></script>                <div id=\"86391014-4a35-4526-a85b-1de82a8cfdb2\" class=\"plotly-graph-div\" style=\"height:1000px; width:1000px;\"></div>            <script type=\"text/javascript\">                                    window.PLOTLYENV=window.PLOTLYENV || {};                                    if (document.getElementById(\"86391014-4a35-4526-a85b-1de82a8cfdb2\")) {                    Plotly.newPlot(                        \"86391014-4a35-4526-a85b-1de82a8cfdb2\",                        [{\"x\":[[-10.0,-8.947368421052632,-7.894736842105264,-6.842105263157895,-5.7894736842105265,-4.736842105263158,-3.6842105263157894,-2.6315789473684212,-1.578947368421053,-0.526315789473685,0.5263157894736832,1.5789473684210513,2.6315789473684212,3.6842105263157894,4.7368421052631575,5.789473684210526,6.842105263157894,7.894736842105264,8.94736842105263,10.0],[-10.0,-8.947368421052632,-7.894736842105264,-6.842105263157895,-5.7894736842105265,-4.736842105263158,-3.6842105263157894,-2.6315789473684212,-1.578947368421053,-0.526315789473685,0.5263157894736832,1.5789473684210513,2.6315789473684212,3.6842105263157894,4.7368421052631575,5.789473684210526,6.842105263157894,7.894736842105264,8.94736842105263,10.0],[-10.0,-8.947368421052632,-7.894736842105264,-6.842105263157895,-5.7894736842105265,-4.736842105263158,-3.6842105263157894,-2.6315789473684212,-1.578947368421053,-0.526315789473685,0.5263157894736832,1.5789473684210513,2.6315789473684212,3.6842105263157894,4.7368421052631575,5.789473684210526,6.842105263157894,7.894736842105264,8.94736842105263,10.0],[-10.0,-8.947368421052632,-7.894736842105264,-6.842105263157895,-5.7894736842105265,-4.736842105263158,-3.6842105263157894,-2.6315789473684212,-1.578947368421053,-0.526315789473685,0.5263157894736832,1.5789473684210513,2.6315789473684212,3.6842105263157894,4.7368421052631575,5.789473684210526,6.842105263157894,7.894736842105264,8.94736842105263,10.0],[-10.0,-8.947368421052632,-7.894736842105264,-6.842105263157895,-5.7894736842105265,-4.736842105263158,-3.6842105263157894,-2.6315789473684212,-1.578947368421053,-0.526315789473685,0.5263157894736832,1.5789473684210513,2.6315789473684212,3.6842105263157894,4.7368421052631575,5.789473684210526,6.842105263157894,7.894736842105264,8.94736842105263,10.0],[-10.0,-8.947368421052632,-7.894736842105264,-6.842105263157895,-5.7894736842105265,-4.736842105263158,-3.6842105263157894,-2.6315789473684212,-1.578947368421053,-0.526315789473685,0.5263157894736832,1.5789473684210513,2.6315789473684212,3.6842105263157894,4.7368421052631575,5.789473684210526,6.842105263157894,7.894736842105264,8.94736842105263,10.0],[-10.0,-8.947368421052632,-7.894736842105264,-6.842105263157895,-5.7894736842105265,-4.736842105263158,-3.6842105263157894,-2.6315789473684212,-1.578947368421053,-0.526315789473685,0.5263157894736832,1.5789473684210513,2.6315789473684212,3.6842105263157894,4.7368421052631575,5.789473684210526,6.842105263157894,7.894736842105264,8.94736842105263,10.0],[-10.0,-8.947368421052632,-7.894736842105264,-6.842105263157895,-5.7894736842105265,-4.736842105263158,-3.6842105263157894,-2.6315789473684212,-1.578947368421053,-0.526315789473685,0.5263157894736832,1.5789473684210513,2.6315789473684212,3.6842105263157894,4.7368421052631575,5.789473684210526,6.842105263157894,7.894736842105264,8.94736842105263,10.0],[-10.0,-8.947368421052632,-7.894736842105264,-6.842105263157895,-5.7894736842105265,-4.736842105263158,-3.6842105263157894,-2.6315789473684212,-1.578947368421053,-0.526315789473685,0.5263157894736832,1.5789473684210513,2.6315789473684212,3.6842105263157894,4.7368421052631575,5.789473684210526,6.842105263157894,7.894736842105264,8.94736842105263,10.0],[-10.0,-8.947368421052632,-7.894736842105264,-6.842105263157895,-5.7894736842105265,-4.736842105263158,-3.6842105263157894,-2.6315789473684212,-1.578947368421053,-0.526315789473685,0.5263157894736832,1.5789473684210513,2.6315789473684212,3.6842105263157894,4.7368421052631575,5.789473684210526,6.842105263157894,7.894736842105264,8.94736842105263,10.0],[-10.0,-8.947368421052632,-7.894736842105264,-6.842105263157895,-5.7894736842105265,-4.736842105263158,-3.6842105263157894,-2.6315789473684212,-1.578947368421053,-0.526315789473685,0.5263157894736832,1.5789473684210513,2.6315789473684212,3.6842105263157894,4.7368421052631575,5.789473684210526,6.842105263157894,7.894736842105264,8.94736842105263,10.0],[-10.0,-8.947368421052632,-7.894736842105264,-6.842105263157895,-5.7894736842105265,-4.736842105263158,-3.6842105263157894,-2.6315789473684212,-1.578947368421053,-0.526315789473685,0.5263157894736832,1.5789473684210513,2.6315789473684212,3.6842105263157894,4.7368421052631575,5.789473684210526,6.842105263157894,7.894736842105264,8.94736842105263,10.0],[-10.0,-8.947368421052632,-7.894736842105264,-6.842105263157895,-5.7894736842105265,-4.736842105263158,-3.6842105263157894,-2.6315789473684212,-1.578947368421053,-0.526315789473685,0.5263157894736832,1.5789473684210513,2.6315789473684212,3.6842105263157894,4.7368421052631575,5.789473684210526,6.842105263157894,7.894736842105264,8.94736842105263,10.0],[-10.0,-8.947368421052632,-7.894736842105264,-6.842105263157895,-5.7894736842105265,-4.736842105263158,-3.6842105263157894,-2.6315789473684212,-1.578947368421053,-0.526315789473685,0.5263157894736832,1.5789473684210513,2.6315789473684212,3.6842105263157894,4.7368421052631575,5.789473684210526,6.842105263157894,7.894736842105264,8.94736842105263,10.0],[-10.0,-8.947368421052632,-7.894736842105264,-6.842105263157895,-5.7894736842105265,-4.736842105263158,-3.6842105263157894,-2.6315789473684212,-1.578947368421053,-0.526315789473685,0.5263157894736832,1.5789473684210513,2.6315789473684212,3.6842105263157894,4.7368421052631575,5.789473684210526,6.842105263157894,7.894736842105264,8.94736842105263,10.0],[-10.0,-8.947368421052632,-7.894736842105264,-6.842105263157895,-5.7894736842105265,-4.736842105263158,-3.6842105263157894,-2.6315789473684212,-1.578947368421053,-0.526315789473685,0.5263157894736832,1.5789473684210513,2.6315789473684212,3.6842105263157894,4.7368421052631575,5.789473684210526,6.842105263157894,7.894736842105264,8.94736842105263,10.0],[-10.0,-8.947368421052632,-7.894736842105264,-6.842105263157895,-5.7894736842105265,-4.736842105263158,-3.6842105263157894,-2.6315789473684212,-1.578947368421053,-0.526315789473685,0.5263157894736832,1.5789473684210513,2.6315789473684212,3.6842105263157894,4.7368421052631575,5.789473684210526,6.842105263157894,7.894736842105264,8.94736842105263,10.0],[-10.0,-8.947368421052632,-7.894736842105264,-6.842105263157895,-5.7894736842105265,-4.736842105263158,-3.6842105263157894,-2.6315789473684212,-1.578947368421053,-0.526315789473685,0.5263157894736832,1.5789473684210513,2.6315789473684212,3.6842105263157894,4.7368421052631575,5.789473684210526,6.842105263157894,7.894736842105264,8.94736842105263,10.0],[-10.0,-8.947368421052632,-7.894736842105264,-6.842105263157895,-5.7894736842105265,-4.736842105263158,-3.6842105263157894,-2.6315789473684212,-1.578947368421053,-0.526315789473685,0.5263157894736832,1.5789473684210513,2.6315789473684212,3.6842105263157894,4.7368421052631575,5.789473684210526,6.842105263157894,7.894736842105264,8.94736842105263,10.0],[-10.0,-8.947368421052632,-7.894736842105264,-6.842105263157895,-5.7894736842105265,-4.736842105263158,-3.6842105263157894,-2.6315789473684212,-1.578947368421053,-0.526315789473685,0.5263157894736832,1.5789473684210513,2.6315789473684212,3.6842105263157894,4.7368421052631575,5.789473684210526,6.842105263157894,7.894736842105264,8.94736842105263,10.0]],\"y\":[[-10.0,-10.0,-10.0,-10.0,-10.0,-10.0,-10.0,-10.0,-10.0,-10.0,-10.0,-10.0,-10.0,-10.0,-10.0,-10.0,-10.0,-10.0,-10.0,-10.0],[-8.947368421052632,-8.947368421052632,-8.947368421052632,-8.947368421052632,-8.947368421052632,-8.947368421052632,-8.947368421052632,-8.947368421052632,-8.947368421052632,-8.947368421052632,-8.947368421052632,-8.947368421052632,-8.947368421052632,-8.947368421052632,-8.947368421052632,-8.947368421052632,-8.947368421052632,-8.947368421052632,-8.947368421052632,-8.947368421052632],[-7.894736842105264,-7.894736842105264,-7.894736842105264,-7.894736842105264,-7.894736842105264,-7.894736842105264,-7.894736842105264,-7.894736842105264,-7.894736842105264,-7.894736842105264,-7.894736842105264,-7.894736842105264,-7.894736842105264,-7.894736842105264,-7.894736842105264,-7.894736842105264,-7.894736842105264,-7.894736842105264,-7.894736842105264,-7.894736842105264],[-6.842105263157895,-6.842105263157895,-6.842105263157895,-6.842105263157895,-6.842105263157895,-6.842105263157895,-6.842105263157895,-6.842105263157895,-6.842105263157895,-6.842105263157895,-6.842105263157895,-6.842105263157895,-6.842105263157895,-6.842105263157895,-6.842105263157895,-6.842105263157895,-6.842105263157895,-6.842105263157895,-6.842105263157895,-6.842105263157895],[-5.7894736842105265,-5.7894736842105265,-5.7894736842105265,-5.7894736842105265,-5.7894736842105265,-5.7894736842105265,-5.7894736842105265,-5.7894736842105265,-5.7894736842105265,-5.7894736842105265,-5.7894736842105265,-5.7894736842105265,-5.7894736842105265,-5.7894736842105265,-5.7894736842105265,-5.7894736842105265,-5.7894736842105265,-5.7894736842105265,-5.7894736842105265,-5.7894736842105265],[-4.736842105263158,-4.736842105263158,-4.736842105263158,-4.736842105263158,-4.736842105263158,-4.736842105263158,-4.736842105263158,-4.736842105263158,-4.736842105263158,-4.736842105263158,-4.736842105263158,-4.736842105263158,-4.736842105263158,-4.736842105263158,-4.736842105263158,-4.736842105263158,-4.736842105263158,-4.736842105263158,-4.736842105263158,-4.736842105263158],[-3.6842105263157894,-3.6842105263157894,-3.6842105263157894,-3.6842105263157894,-3.6842105263157894,-3.6842105263157894,-3.6842105263157894,-3.6842105263157894,-3.6842105263157894,-3.6842105263157894,-3.6842105263157894,-3.6842105263157894,-3.6842105263157894,-3.6842105263157894,-3.6842105263157894,-3.6842105263157894,-3.6842105263157894,-3.6842105263157894,-3.6842105263157894,-3.6842105263157894],[-2.6315789473684212,-2.6315789473684212,-2.6315789473684212,-2.6315789473684212,-2.6315789473684212,-2.6315789473684212,-2.6315789473684212,-2.6315789473684212,-2.6315789473684212,-2.6315789473684212,-2.6315789473684212,-2.6315789473684212,-2.6315789473684212,-2.6315789473684212,-2.6315789473684212,-2.6315789473684212,-2.6315789473684212,-2.6315789473684212,-2.6315789473684212,-2.6315789473684212],[-1.578947368421053,-1.578947368421053,-1.578947368421053,-1.578947368421053,-1.578947368421053,-1.578947368421053,-1.578947368421053,-1.578947368421053,-1.578947368421053,-1.578947368421053,-1.578947368421053,-1.578947368421053,-1.578947368421053,-1.578947368421053,-1.578947368421053,-1.578947368421053,-1.578947368421053,-1.578947368421053,-1.578947368421053,-1.578947368421053],[-0.526315789473685,-0.526315789473685,-0.526315789473685,-0.526315789473685,-0.526315789473685,-0.526315789473685,-0.526315789473685,-0.526315789473685,-0.526315789473685,-0.526315789473685,-0.526315789473685,-0.526315789473685,-0.526315789473685,-0.526315789473685,-0.526315789473685,-0.526315789473685,-0.526315789473685,-0.526315789473685,-0.526315789473685,-0.526315789473685],[0.5263157894736832,0.5263157894736832,0.5263157894736832,0.5263157894736832,0.5263157894736832,0.5263157894736832,0.5263157894736832,0.5263157894736832,0.5263157894736832,0.5263157894736832,0.5263157894736832,0.5263157894736832,0.5263157894736832,0.5263157894736832,0.5263157894736832,0.5263157894736832,0.5263157894736832,0.5263157894736832,0.5263157894736832,0.5263157894736832],[1.5789473684210513,1.5789473684210513,1.5789473684210513,1.5789473684210513,1.5789473684210513,1.5789473684210513,1.5789473684210513,1.5789473684210513,1.5789473684210513,1.5789473684210513,1.5789473684210513,1.5789473684210513,1.5789473684210513,1.5789473684210513,1.5789473684210513,1.5789473684210513,1.5789473684210513,1.5789473684210513,1.5789473684210513,1.5789473684210513],[2.6315789473684212,2.6315789473684212,2.6315789473684212,2.6315789473684212,2.6315789473684212,2.6315789473684212,2.6315789473684212,2.6315789473684212,2.6315789473684212,2.6315789473684212,2.6315789473684212,2.6315789473684212,2.6315789473684212,2.6315789473684212,2.6315789473684212,2.6315789473684212,2.6315789473684212,2.6315789473684212,2.6315789473684212,2.6315789473684212],[3.6842105263157894,3.6842105263157894,3.6842105263157894,3.6842105263157894,3.6842105263157894,3.6842105263157894,3.6842105263157894,3.6842105263157894,3.6842105263157894,3.6842105263157894,3.6842105263157894,3.6842105263157894,3.6842105263157894,3.6842105263157894,3.6842105263157894,3.6842105263157894,3.6842105263157894,3.6842105263157894,3.6842105263157894,3.6842105263157894],[4.7368421052631575,4.7368421052631575,4.7368421052631575,4.7368421052631575,4.7368421052631575,4.7368421052631575,4.7368421052631575,4.7368421052631575,4.7368421052631575,4.7368421052631575,4.7368421052631575,4.7368421052631575,4.7368421052631575,4.7368421052631575,4.7368421052631575,4.7368421052631575,4.7368421052631575,4.7368421052631575,4.7368421052631575,4.7368421052631575],[5.789473684210526,5.789473684210526,5.789473684210526,5.789473684210526,5.789473684210526,5.789473684210526,5.789473684210526,5.789473684210526,5.789473684210526,5.789473684210526,5.789473684210526,5.789473684210526,5.789473684210526,5.789473684210526,5.789473684210526,5.789473684210526,5.789473684210526,5.789473684210526,5.789473684210526,5.789473684210526],[6.842105263157894,6.842105263157894,6.842105263157894,6.842105263157894,6.842105263157894,6.842105263157894,6.842105263157894,6.842105263157894,6.842105263157894,6.842105263157894,6.842105263157894,6.842105263157894,6.842105263157894,6.842105263157894,6.842105263157894,6.842105263157894,6.842105263157894,6.842105263157894,6.842105263157894,6.842105263157894],[7.894736842105264,7.894736842105264,7.894736842105264,7.894736842105264,7.894736842105264,7.894736842105264,7.894736842105264,7.894736842105264,7.894736842105264,7.894736842105264,7.894736842105264,7.894736842105264,7.894736842105264,7.894736842105264,7.894736842105264,7.894736842105264,7.894736842105264,7.894736842105264,7.894736842105264,7.894736842105264],[8.94736842105263,8.94736842105263,8.94736842105263,8.94736842105263,8.94736842105263,8.94736842105263,8.94736842105263,8.94736842105263,8.94736842105263,8.94736842105263,8.94736842105263,8.94736842105263,8.94736842105263,8.94736842105263,8.94736842105263,8.94736842105263,8.94736842105263,8.94736842105263,8.94736842105263,8.94736842105263],[10.0,10.0,10.0,10.0,10.0,10.0,10.0,10.0,10.0,10.0,10.0,10.0,10.0,10.0,10.0,10.0,10.0,10.0,10.0,10.0]],\"z\":[[105.75747809363816,95.785178924663,86.92091299668516,79.16468030970456,72.51648086372114,66.97631465873509,62.544181694746136,59.22008197175434,57.00401548975997,55.89598224876271,55.895982248762735,57.00401548976001,59.220081971754446,62.544181694746165,66.97631465873503,72.51648086372121,79.16468030970456,86.92091299668515,95.78517892466303,105.75747809363803],[95.24030423245098,85.26800506347607,76.40373913549823,68.64750644851756,61.9993070025341,56.459140797547995,52.027007833559004,48.70290811056745,46.486841628572904,45.378808387575766,45.378808387575745,46.48684162857291,48.702908110567414,52.02700783355907,56.45914079754798,61.999307002534145,68.64750644851755,76.4037391354982,85.26800506347604,95.24030423245102],[85.82913052374559,75.85683135477056,66.99256542679275,59.23633273981214,52.58813329382877,47.04796708884258,42.61583412485366,39.29173440186198,37.07566791986754,35.96763467887029,35.96763467887032,37.075667919867506,39.29173440186195,42.61583412485368,47.04796708884254,52.588133293828754,59.23633273981218,66.99256542679274,75.85683135477056,85.82913052374573],[77.52395696752183,67.55165779854684,58.68739187056897,50.93115918358832,44.282959737604976,38.742793532618876,34.31066056862987,30.986560845638238,28.77049436364373,27.662461122646526,27.662461122646523,28.770494363643785,30.98656084563819,34.310660568629935,38.74279353261879,44.282959737605005,50.93115918358841,58.68739187056899,67.55165779854681,77.52395696752187],[70.3247835637798,60.35248439480462,51.488218466826794,43.73198577984619,37.083786333862854,31.543620128876654,27.11148716488774,23.78738744189608,21.57132095990162,20.463287718904397,20.463287718904404,21.571320959901644,23.78738744189611,27.111487164887784,31.543620128876686,37.08378633386286,43.73198577984626,51.488218466826844,60.35248439480467,70.32478356377976],[64.2316103125193,54.259311143544245,45.39504521556638,37.63881252858575,30.990613082602355,25.45044687761619,21.0183139136273,17.694214190635567,15.478147708641133,14.370114467643921,14.370114467643907,15.478147708641146,17.69421419063563,21.018313913627303,25.450446877616216,30.990613082602373,37.63881252858576,45.39504521556636,54.25931114354422,64.23161031251924],[59.244437213740405,49.27213804476542,40.407872116787495,32.6516394298069,26.003439983823522,20.463273778837348,16.031140814848435,12.707041091856727,10.490974609862283,9.382941368865044,9.382941368865056,10.49097460986228,12.70704109185675,16.03114081484844,20.463273778837355,26.003439983823522,32.65163942980691,40.407872116787516,49.27213804476528,59.24443721374039],[55.36326426744325,45.3909650984681,36.52669917049029,28.770466483509697,22.122267037526306,16.58210083254016,12.149967868551238,8.825868145559557,6.609801663565089,5.501768422567857,5.501768422567846,6.609801663565083,8.825868145559548,12.149967868551244,16.58210083254016,22.1222670375263,28.770466483509676,36.52669917049025,45.39096509846815,55.36326426744319],[52.58809147362768,42.61579230465252,33.751526376674754,25.995293689694115,19.347094243710764,13.806928038724577,9.374795074735653,6.050695351743976,3.8346288697495114,2.726595628752278,2.7265956287522797,3.834628869749504,6.050695351743971,9.374795074735667,13.806928038724577,19.347094243710725,25.995293689694112,33.75152637667474,42.61579230465252,52.58809147362759],[50.91891883229368,40.946619663318586,32.08235373534077,24.32612104836018,17.677921602376806,12.137755397390647,7.705622433401723,4.3815227104100325,2.165456228415576,1.0574229874183467,1.0574229874183452,2.1654562284155743,4.381522710410033,7.705622433401727,12.137755397390643,17.67792160237681,24.326121048360168,32.08235373534079,40.946619663318636,50.918918832293684],[50.35574634344135,40.38344717446632,31.519181246488493,23.762948559507873,17.114749113524518,11.574582908538344,7.1424499445494325,3.818350221557739,1.6022837395632819,0.4942504985660513,0.49425049856605036,1.6022837395632774,3.8183502215577367,7.142449944549428,11.574582908538341,17.1147491135245,23.762948559507873,31.519181246488493,40.38344717446634,50.35574634344139],[50.898574007070714,40.92627483809569,32.062008910117825,24.30577622313724,17.657576777153842,12.11741057216769,7.685277608178774,4.361177885187088,2.145111403192625,1.0370781621953935,1.0370781621953926,2.1451114031926206,4.361177885187077,7.685277608178772,12.117410572167696,17.65757677715383,24.305776223137205,32.06200891011779,40.92627483809564,50.89857400707074],[52.54740182318179,42.575102654206624,33.71083672622884,25.954604039248203,19.30640459326484,13.766238388278701,9.334105424289756,6.010005701298069,3.7939392193036077,2.685905978306381,2.6859059783063763,3.7939392193036063,6.010005701298066,9.334105424289751,13.766238388278666,19.306404593264816,25.95460403924821,33.71083672622883,42.57510265420663,52.547401823181715],[55.302229791774366,45.329930622799274,36.465664694821456,28.709432007840828,22.061232561857434,16.521066356871305,12.08893339288238,8.764833669890695,6.548767187896228,5.440733946899002,5.4407339468989955,6.548767187896224,8.76483366989069,12.08893339288237,16.521066356871295,22.061232561857413,28.7094320078408,36.46566469482143,45.329930622799274,55.302229791774394],[59.163057912848515,49.19075874387353,40.326492815895705,32.570260128915116,25.922060682931694,20.38189447794555,15.949761513956638,12.62566179096496,10.4095953089705,9.301562067973254,9.301562067973242,10.409595308970484,12.62566179096495,15.949761513956641,20.381894477945576,25.922060682931694,32.570260128915045,40.32649281589572,49.19075874387351,59.163057912848565],[64.12988618640446,54.15758701742939,45.29332108945164,37.53708840247099,30.88888895648763,25.34872275150147,20.916589787512528,17.592490064520828,15.376423582526382,14.268390341529148,14.268390341529159,15.376423582526382,17.592490064520856,20.916589787512507,25.34872275150146,30.88888895648755,37.537088402470985,45.2933210894516,54.15758701742944,64.12988618640456],[70.20271461244211,60.230415443467,51.36614951548912,43.60991682850851,36.96171738252513,31.421551177538966,26.989418213550078,23.665318490558416,21.449252008563928,20.34121876756669,20.341218767566684,21.449252008563928,23.665318490558388,26.989418213550046,31.42155117753901,36.96171738252512,43.60991682850849,51.36614951548909,60.23041544346694,70.20271461244211],[77.38154319096131,67.40924402198615,58.544978094008336,50.78874540702771,44.14054596104436,38.60037975605819,34.168246792069226,30.84414706907756,28.628080587083115,27.520047346085875,27.52004734608589,28.628080587083105,30.844147069077547,34.16824679206927,38.600379756058224,44.14054596104426,50.78874540702769,58.54497809400832,67.40924402198617,77.38154319096117],[85.66637192196208,75.69407275298691,66.82980682500921,59.073574138028526,52.42537469204514,46.88520848705898,42.45307552307005,39.128975800078365,36.912909318083884,35.80487607708673,35.804876077086675,36.91290931808393,39.128975800078315,42.45307552307007,46.88520848705897,52.425374692045104,59.07357413802845,66.82980682500913,75.6940727529869,85.66637192196207],[95.05720080544451,85.0849016364695,76.2206357084916,68.46440302151099,61.81620357552759,56.276037370541424,51.843904406552554,48.519804683560864,46.30373820156628,45.19570496056919,45.195704960569174,46.3037382015664,48.51980468356081,51.84390440655255,56.27603737054136,61.81620357552762,68.46440302151092,76.22063570849147,85.08490163646927,95.05720080544434]],\"type\":\"surface\"}],                        {\"template\":{\"data\":{\"histogram2dcontour\":[{\"type\":\"histogram2dcontour\",\"colorbar\":{\"outlinewidth\":0,\"ticks\":\"\"},\"colorscale\":[[0.0,\"#0d0887\"],[0.1111111111111111,\"#46039f\"],[0.2222222222222222,\"#7201a8\"],[0.3333333333333333,\"#9c179e\"],[0.4444444444444444,\"#bd3786\"],[0.5555555555555556,\"#d8576b\"],[0.6666666666666666,\"#ed7953\"],[0.7777777777777778,\"#fb9f3a\"],[0.8888888888888888,\"#fdca26\"],[1.0,\"#f0f921\"]]}],\"choropleth\":[{\"type\":\"choropleth\",\"colorbar\":{\"outlinewidth\":0,\"ticks\":\"\"}}],\"histogram2d\":[{\"type\":\"histogram2d\",\"colorbar\":{\"outlinewidth\":0,\"ticks\":\"\"},\"colorscale\":[[0.0,\"#0d0887\"],[0.1111111111111111,\"#46039f\"],[0.2222222222222222,\"#7201a8\"],[0.3333333333333333,\"#9c179e\"],[0.4444444444444444,\"#bd3786\"],[0.5555555555555556,\"#d8576b\"],[0.6666666666666666,\"#ed7953\"],[0.7777777777777778,\"#fb9f3a\"],[0.8888888888888888,\"#fdca26\"],[1.0,\"#f0f921\"]]}],\"heatmap\":[{\"type\":\"heatmap\",\"colorbar\":{\"outlinewidth\":0,\"ticks\":\"\"},\"colorscale\":[[0.0,\"#0d0887\"],[0.1111111111111111,\"#46039f\"],[0.2222222222222222,\"#7201a8\"],[0.3333333333333333,\"#9c179e\"],[0.4444444444444444,\"#bd3786\"],[0.5555555555555556,\"#d8576b\"],[0.6666666666666666,\"#ed7953\"],[0.7777777777777778,\"#fb9f3a\"],[0.8888888888888888,\"#fdca26\"],[1.0,\"#f0f921\"]]}],\"heatmapgl\":[{\"type\":\"heatmapgl\",\"colorbar\":{\"outlinewidth\":0,\"ticks\":\"\"},\"colorscale\":[[0.0,\"#0d0887\"],[0.1111111111111111,\"#46039f\"],[0.2222222222222222,\"#7201a8\"],[0.3333333333333333,\"#9c179e\"],[0.4444444444444444,\"#bd3786\"],[0.5555555555555556,\"#d8576b\"],[0.6666666666666666,\"#ed7953\"],[0.7777777777777778,\"#fb9f3a\"],[0.8888888888888888,\"#fdca26\"],[1.0,\"#f0f921\"]]}],\"contourcarpet\":[{\"type\":\"contourcarpet\",\"colorbar\":{\"outlinewidth\":0,\"ticks\":\"\"}}],\"contour\":[{\"type\":\"contour\",\"colorbar\":{\"outlinewidth\":0,\"ticks\":\"\"},\"colorscale\":[[0.0,\"#0d0887\"],[0.1111111111111111,\"#46039f\"],[0.2222222222222222,\"#7201a8\"],[0.3333333333333333,\"#9c179e\"],[0.4444444444444444,\"#bd3786\"],[0.5555555555555556,\"#d8576b\"],[0.6666666666666666,\"#ed7953\"],[0.7777777777777778,\"#fb9f3a\"],[0.8888888888888888,\"#fdca26\"],[1.0,\"#f0f921\"]]}],\"surface\":[{\"type\":\"surface\",\"colorbar\":{\"outlinewidth\":0,\"ticks\":\"\"},\"colorscale\":[[0.0,\"#0d0887\"],[0.1111111111111111,\"#46039f\"],[0.2222222222222222,\"#7201a8\"],[0.3333333333333333,\"#9c179e\"],[0.4444444444444444,\"#bd3786\"],[0.5555555555555556,\"#d8576b\"],[0.6666666666666666,\"#ed7953\"],[0.7777777777777778,\"#fb9f3a\"],[0.8888888888888888,\"#fdca26\"],[1.0,\"#f0f921\"]]}],\"mesh3d\":[{\"type\":\"mesh3d\",\"colorbar\":{\"outlinewidth\":0,\"ticks\":\"\"}}],\"scatter\":[{\"fillpattern\":{\"fillmode\":\"overlay\",\"size\":10,\"solidity\":0.2},\"type\":\"scatter\"}],\"parcoords\":[{\"type\":\"parcoords\",\"line\":{\"colorbar\":{\"outlinewidth\":0,\"ticks\":\"\"}}}],\"scatterpolargl\":[{\"type\":\"scatterpolargl\",\"marker\":{\"colorbar\":{\"outlinewidth\":0,\"ticks\":\"\"}}}],\"bar\":[{\"error_x\":{\"color\":\"#2a3f5f\"},\"error_y\":{\"color\":\"#2a3f5f\"},\"marker\":{\"line\":{\"color\":\"#E5ECF6\",\"width\":0.5},\"pattern\":{\"fillmode\":\"overlay\",\"size\":10,\"solidity\":0.2}},\"type\":\"bar\"}],\"scattergeo\":[{\"type\":\"scattergeo\",\"marker\":{\"colorbar\":{\"outlinewidth\":0,\"ticks\":\"\"}}}],\"scatterpolar\":[{\"type\":\"scatterpolar\",\"marker\":{\"colorbar\":{\"outlinewidth\":0,\"ticks\":\"\"}}}],\"histogram\":[{\"marker\":{\"pattern\":{\"fillmode\":\"overlay\",\"size\":10,\"solidity\":0.2}},\"type\":\"histogram\"}],\"scattergl\":[{\"type\":\"scattergl\",\"marker\":{\"colorbar\":{\"outlinewidth\":0,\"ticks\":\"\"}}}],\"scatter3d\":[{\"type\":\"scatter3d\",\"line\":{\"colorbar\":{\"outlinewidth\":0,\"ticks\":\"\"}},\"marker\":{\"colorbar\":{\"outlinewidth\":0,\"ticks\":\"\"}}}],\"scattermapbox\":[{\"type\":\"scattermapbox\",\"marker\":{\"colorbar\":{\"outlinewidth\":0,\"ticks\":\"\"}}}],\"scatterternary\":[{\"type\":\"scatterternary\",\"marker\":{\"colorbar\":{\"outlinewidth\":0,\"ticks\":\"\"}}}],\"scattercarpet\":[{\"type\":\"scattercarpet\",\"marker\":{\"colorbar\":{\"outlinewidth\":0,\"ticks\":\"\"}}}],\"carpet\":[{\"aaxis\":{\"endlinecolor\":\"#2a3f5f\",\"gridcolor\":\"white\",\"linecolor\":\"white\",\"minorgridcolor\":\"white\",\"startlinecolor\":\"#2a3f5f\"},\"baxis\":{\"endlinecolor\":\"#2a3f5f\",\"gridcolor\":\"white\",\"linecolor\":\"white\",\"minorgridcolor\":\"white\",\"startlinecolor\":\"#2a3f5f\"},\"type\":\"carpet\"}],\"table\":[{\"cells\":{\"fill\":{\"color\":\"#EBF0F8\"},\"line\":{\"color\":\"white\"}},\"header\":{\"fill\":{\"color\":\"#C8D4E3\"},\"line\":{\"color\":\"white\"}},\"type\":\"table\"}],\"barpolar\":[{\"marker\":{\"line\":{\"color\":\"#E5ECF6\",\"width\":0.5},\"pattern\":{\"fillmode\":\"overlay\",\"size\":10,\"solidity\":0.2}},\"type\":\"barpolar\"}],\"pie\":[{\"automargin\":true,\"type\":\"pie\"}]},\"layout\":{\"autotypenumbers\":\"strict\",\"colorway\":[\"#636efa\",\"#EF553B\",\"#00cc96\",\"#ab63fa\",\"#FFA15A\",\"#19d3f3\",\"#FF6692\",\"#B6E880\",\"#FF97FF\",\"#FECB52\"],\"font\":{\"color\":\"#2a3f5f\"},\"hovermode\":\"closest\",\"hoverlabel\":{\"align\":\"left\"},\"paper_bgcolor\":\"white\",\"plot_bgcolor\":\"#E5ECF6\",\"polar\":{\"bgcolor\":\"#E5ECF6\",\"angularaxis\":{\"gridcolor\":\"white\",\"linecolor\":\"white\",\"ticks\":\"\"},\"radialaxis\":{\"gridcolor\":\"white\",\"linecolor\":\"white\",\"ticks\":\"\"}},\"ternary\":{\"bgcolor\":\"#E5ECF6\",\"aaxis\":{\"gridcolor\":\"white\",\"linecolor\":\"white\",\"ticks\":\"\"},\"baxis\":{\"gridcolor\":\"white\",\"linecolor\":\"white\",\"ticks\":\"\"},\"caxis\":{\"gridcolor\":\"white\",\"linecolor\":\"white\",\"ticks\":\"\"}},\"coloraxis\":{\"colorbar\":{\"outlinewidth\":0,\"ticks\":\"\"}},\"colorscale\":{\"sequential\":[[0.0,\"#0d0887\"],[0.1111111111111111,\"#46039f\"],[0.2222222222222222,\"#7201a8\"],[0.3333333333333333,\"#9c179e\"],[0.4444444444444444,\"#bd3786\"],[0.5555555555555556,\"#d8576b\"],[0.6666666666666666,\"#ed7953\"],[0.7777777777777778,\"#fb9f3a\"],[0.8888888888888888,\"#fdca26\"],[1.0,\"#f0f921\"]],\"sequentialminus\":[[0.0,\"#0d0887\"],[0.1111111111111111,\"#46039f\"],[0.2222222222222222,\"#7201a8\"],[0.3333333333333333,\"#9c179e\"],[0.4444444444444444,\"#bd3786\"],[0.5555555555555556,\"#d8576b\"],[0.6666666666666666,\"#ed7953\"],[0.7777777777777778,\"#fb9f3a\"],[0.8888888888888888,\"#fdca26\"],[1.0,\"#f0f921\"]],\"diverging\":[[0,\"#8e0152\"],[0.1,\"#c51b7d\"],[0.2,\"#de77ae\"],[0.3,\"#f1b6da\"],[0.4,\"#fde0ef\"],[0.5,\"#f7f7f7\"],[0.6,\"#e6f5d0\"],[0.7,\"#b8e186\"],[0.8,\"#7fbc41\"],[0.9,\"#4d9221\"],[1,\"#276419\"]]},\"xaxis\":{\"gridcolor\":\"white\",\"linecolor\":\"white\",\"ticks\":\"\",\"title\":{\"standoff\":15},\"zerolinecolor\":\"white\",\"automargin\":true,\"zerolinewidth\":2},\"yaxis\":{\"gridcolor\":\"white\",\"linecolor\":\"white\",\"ticks\":\"\",\"title\":{\"standoff\":15},\"zerolinecolor\":\"white\",\"automargin\":true,\"zerolinewidth\":2},\"scene\":{\"xaxis\":{\"backgroundcolor\":\"#E5ECF6\",\"gridcolor\":\"white\",\"linecolor\":\"white\",\"showbackground\":true,\"ticks\":\"\",\"zerolinecolor\":\"white\",\"gridwidth\":2},\"yaxis\":{\"backgroundcolor\":\"#E5ECF6\",\"gridcolor\":\"white\",\"linecolor\":\"white\",\"showbackground\":true,\"ticks\":\"\",\"zerolinecolor\":\"white\",\"gridwidth\":2},\"zaxis\":{\"backgroundcolor\":\"#E5ECF6\",\"gridcolor\":\"white\",\"linecolor\":\"white\",\"showbackground\":true,\"ticks\":\"\",\"zerolinecolor\":\"white\",\"gridwidth\":2}},\"shapedefaults\":{\"line\":{\"color\":\"#2a3f5f\"}},\"annotationdefaults\":{\"arrowcolor\":\"#2a3f5f\",\"arrowhead\":0,\"arrowwidth\":1},\"geo\":{\"bgcolor\":\"white\",\"landcolor\":\"#E5ECF6\",\"subunitcolor\":\"white\",\"showland\":true,\"showlakes\":true,\"lakecolor\":\"white\"},\"title\":{\"x\":0.05},\"mapbox\":{\"style\":\"light\"}}},\"margin\":{\"l\":65,\"r\":50,\"b\":65,\"t\":90},\"title\":{\"text\":\"House modeling\"},\"autosize\":false,\"width\":1000,\"height\":1000,\"scene\":{\"xaxis\":{\"title\":{\"text\":\"w_0\"}},\"yaxis\":{\"title\":{\"text\":\"w_1\"}},\"zaxis\":{\"title\":{\"text\":\"Cost\"}}}},                        {\"responsive\": true}                    ).then(function(){\n",
              "                            \n",
              "var gd = document.getElementById('86391014-4a35-4526-a85b-1de82a8cfdb2');\n",
              "var x = new MutationObserver(function (mutations, observer) {{\n",
              "        var display = window.getComputedStyle(gd).display;\n",
              "        if (!display || display === 'none') {{\n",
              "            console.log([gd, 'removed!']);\n",
              "            Plotly.purge(gd);\n",
              "            observer.disconnect();\n",
              "        }}\n",
              "}});\n",
              "\n",
              "// Listen for the removal of the full notebook cells\n",
              "var notebookContainer = gd.closest('#notebook-container');\n",
              "if (notebookContainer) {{\n",
              "    x.observe(notebookContainer, {childList: true});\n",
              "}}\n",
              "\n",
              "// Listen for the clearing of the current output cell\n",
              "var outputEl = gd.closest('.output');\n",
              "if (outputEl) {{\n",
              "    x.observe(outputEl, {childList: true});\n",
              "}}\n",
              "\n",
              "                        })                };                            </script>        </div>\n",
              "</body>\n",
              "</html>"
            ]
          },
          "metadata": {}
        }
      ]
    },
    {
      "cell_type": "code",
      "source": [
        "plt.figure(figsize=(10,6))\n",
        "sns.scatterplot(x=\"area\", y=\"price\", data=normalized_df)"
      ],
      "metadata": {
        "colab": {
          "base_uri": "https://localhost:8080/",
          "height": 559
        },
        "id": "lzpRY_BGgQJn",
        "outputId": "44638558-d9ef-46f1-8e7e-f7b69e518280"
      },
      "execution_count": null,
      "outputs": [
        {
          "output_type": "execute_result",
          "data": {
            "text/plain": [
              "<Axes: xlabel='area', ylabel='price'>"
            ]
          },
          "metadata": {},
          "execution_count": 45
        },
        {
          "output_type": "display_data",
          "data": {
            "text/plain": [
              "<Figure size 1000x600 with 1 Axes>"
            ],
            "image/png": "[encoded data removed]"
          },
          "metadata": {}
        }
      ]
    },
    {
      "cell_type": "markdown",
      "source": [
        "# Multi-feature regression"
      ],
      "metadata": {
        "id": "u8KbstXD9OjM"
      }
    },
    {
      "cell_type": "code",
      "source": [
        "class MyLinearRegression:\n",
        "\n",
        "    def __init__(self, learning_rate=0.01, n_iters=1000):\n",
        "\n",
        "        self.lr = learning_rate\n",
        "        self.n_iters = n_iters\n",
        "\n",
        "        self.weights = None\n",
        "        self.bias = None\n",
        "        self.costs = []\n",
        "\n",
        "    def gradient_descent(self, X, y):\n",
        "        n_samples = X.shape[0]\n",
        "\n",
        "        for _ in range(self.n_iters):\n",
        "\n",
        "            # predicted value with the current weights (default is zeros)\n",
        "            y_predicted = np.dot(X, self.weights) + self.bias\n",
        "\n",
        "            difference = y_predicted - y\n",
        "\n",
        "            # compute gradients\n",
        "            dw = (1 / n_samples) * np.dot(X.T, difference)\n",
        "            db = (1 / n_samples) * np.sum(difference)\n",
        "\n",
        "            # update parameters\n",
        "            self.weights -= self.lr * dw\n",
        "            self.bias -= self.lr * db\n",
        "\n",
        "            # cost value of the current iteration\n",
        "            cost = (1/n_samples) * np.sum(difference**2)\n",
        "            self.costs.append(cost)\n",
        "\n",
        "    def fit(self, X, y):\n",
        "        # init parameters\n",
        "        n_samples, n_features = X.shape\n",
        "        self.weights = np.zeros(n_features)\n",
        "        self.bias = 0\n",
        "\n",
        "        # reshaping target variable (m,1) to (m,)\n",
        "        y = y.reshape(y.shape[0])\n",
        "\n",
        "        print(f\"X     --> shape: {X.shape}\")\n",
        "        print(f\"y     --> shape: {y.shape}\")\n",
        "        print(f\"THETA --> shape: {self.weights.shape}\")\n",
        "\n",
        "        self.gradient_descent(X, y)\n",
        "\n",
        "\n",
        "    def predict(self, X):\n",
        "        if X[0] <= -2.327287135729532:\n",
        "            return \"Try again\"\n",
        "        y_approximated = np.dot(X, self.weights) + self.bias\n",
        "        return y_approximated"
      ],
      "metadata": {
        "id": "wceD1XLp_gWX"
      },
      "execution_count": null,
      "outputs": []
    },
    {
      "cell_type": "code",
      "source": [
        "normalized_df = df.copy(deep=True)\n",
        "normalized_df.area = (df.area - df.area.mean()) / df.area.std()\n",
        "normalized_df.price = (df.price - df.price.mean()) / df.price.std()\n",
        "normalized_df.bedrooms = (df.bedrooms - df.bedrooms.mean()) / df.bedrooms.std()\n",
        "normalized_df.bathrooms = (df.bathrooms - df.bathrooms.mean()) / df.bathrooms.std()"
      ],
      "metadata": {
        "id": "Fzo5TyrR-eQu"
      },
      "execution_count": null,
      "outputs": []
    },
    {
      "cell_type": "code",
      "source": [
        "(100 - df.area.mean()) / df.area.std()"
      ],
      "metadata": {
        "colab": {
          "base_uri": "https://localhost:8080/"
        },
        "id": "a6w6pqnp7XPY",
        "outputId": "12cc58a6-b800-4331-d793-56ec2cd25079"
      },
      "execution_count": null,
      "outputs": [
        {
          "output_type": "execute_result",
          "data": {
            "text/plain": [
              "-2.327287135729532"
            ]
          },
          "metadata": {},
          "execution_count": 61
        }
      ]
    },
    {
      "cell_type": "code",
      "source": [
        "X_train.shape"
      ],
      "metadata": {
        "colab": {
          "base_uri": "https://localhost:8080/"
        },
        "id": "lFxzJU4O4HSD",
        "outputId": "bbe02533-15b6-45e4-cab9-bf8404478f94"
      },
      "execution_count": null,
      "outputs": [
        {
          "output_type": "execute_result",
          "data": {
            "text/plain": [
              "(545, 3)"
            ]
          },
          "metadata": {},
          "execution_count": 52
        }
      ]
    },
    {
      "cell_type": "code",
      "source": [
        "X_train = np.array(normalized_df[['area', 'bedrooms', 'bathrooms']])\n",
        "y_train = np.array(normalized_df['price'])\n",
        "\n",
        "linear_regression_model = MyLinearRegression(learning_rate=0.01, n_iters=10000)\n",
        "linear_regression_model.fit(X_train, y_train)\n",
        "\n",
        "sns.lineplot(x=range(linear_regression_model.n_iters), y=linear_regression_model.costs)"
      ],
      "metadata": {
        "colab": {
          "base_uri": "https://localhost:8080/",
          "height": 498
        },
        "id": "1DfIb7EzAbPS",
        "outputId": "cd85ddcc-d604-4491-d48c-be97152d10a9"
      },
      "execution_count": null,
      "outputs": [
        {
          "output_type": "stream",
          "name": "stdout",
          "text": [
            "X     --> shape: (545, 3)\n",
            "y     --> shape: (545,)\n",
            "THETA --> shape: (3,)\n"
          ]
        },
        {
          "output_type": "execute_result",
          "data": {
            "text/plain": [
              "<Axes: >"
            ]
          },
          "metadata": {},
          "execution_count": 68
        },
        {
          "output_type": "display_data",
          "data": {
            "text/plain": [
              "<Figure size 640x480 with 1 Axes>"
            ],
            "image/png": "[encoded data removed]"
          },
          "metadata": {}
        }
      ]
    },
    {
      "cell_type": "code",
      "source": [],
      "metadata": {
        "id": "5uIGo67JBf0H"
      },
      "execution_count": null,
      "outputs": []
    },
    {
      "cell_type": "markdown",
      "source": [
        "# Test"
      ],
      "metadata": {
        "id": "TLVeYdMmCRoF"
      }
    },
    {
      "cell_type": "code",
      "source": [
        "normalized_df = df.copy(deep=True)\n",
        "\n",
        "area, bedrooms, bathrooms = 50, 1, 1\n",
        "\n",
        "test_area = (area - df.area.mean()) / df.area.std()\n",
        "test_bedrooms = (bedrooms - df.bedrooms.mean()) / df.bedrooms.std()\n",
        "test_bathrooms = (bathrooms - df.bathrooms.mean()) / df.bathrooms.std()\n",
        "\n",
        "normalized_prediction = linear_regression_model.predict(np.array([[test_area, test_bedrooms, test_bathrooms]]))"
      ],
      "metadata": {
        "id": "fdjfcBEUAuiu"
      },
      "execution_count": null,
      "outputs": []
    },
    {
      "cell_type": "code",
      "source": [
        "predicted_price = normalized_prediction[0] * df.price.std() + df.price.mean()\n",
        "normalized_prediction, predicted_price"
      ],
      "metadata": {
        "colab": {
          "base_uri": "https://localhost:8080/"
        },
        "id": "c80o69xjBwL_",
        "outputId": "854f48d8-9de9-4f2c-8278-76df8cbd37cf"
      },
      "execution_count": null,
      "outputs": [
        {
          "output_type": "execute_result",
          "data": {
            "text/plain": [
              "(array([-1.67238395]), 1638636.061606783)"
            ]
          },
          "metadata": {},
          "execution_count": 64
        }
      ]
    },
    {
      "cell_type": "markdown",
      "source": [
        "# T-SNE"
      ],
      "metadata": {
        "id": "Nr0Lr7PrEz5p"
      }
    },
    {
      "cell_type": "code",
      "source": [],
      "metadata": {
        "id": "NiK3sfDqVIq4"
      },
      "execution_count": null,
      "outputs": []
    },
    {
      "cell_type": "code",
      "source": [],
      "metadata": {
        "id": "zRcLrDuNNRVY"
      },
      "execution_count": null,
      "outputs": []
    },
    {
      "cell_type": "code",
      "source": [],
      "metadata": {
        "id": "PsnoqJeGLjYU"
      },
      "execution_count": null,
      "outputs": []
    },
    {
      "cell_type": "markdown",
      "source": [
        "# Learning"
      ],
      "metadata": {
        "id": "MCxsW5DX9v9L"
      }
    },
    {
      "cell_type": "code",
      "source": [
        "import numpy as np\n",
        "from sklearn.linear_model import LinearRegression\n",
        "\n",
        "X = np.array([\n",
        "    [1, 1],\n",
        "    [1, 2],\n",
        "    [2, 2],\n",
        "    [2, 3]\n",
        "])\n",
        "\n",
        "y = np.dot(X, np.array([1, 2])) + 3\n",
        "\n",
        "regressor = LinearRegression().fit(X, y)\n",
        "\n",
        "print(regressor.predict(np.array([[3, 5]])))"
      ],
      "metadata": {
        "id": "0tJeQ32z9vpV",
        "colab": {
          "base_uri": "https://localhost:8080/"
        },
        "outputId": "27f8e2f1-eb8f-4a30-fa32-553020b332a6"
      },
      "execution_count": null,
      "outputs": [
        {
          "output_type": "stream",
          "name": "stdout",
          "text": [
            "[16.]\n"
          ]
        }
      ]
    },
    {
      "cell_type": "code",
      "source": [
        "regressor = LinearRegression().fit(X_train, y_train)"
      ],
      "metadata": {
        "id": "I-Q4jqM28J-j"
      },
      "execution_count": null,
      "outputs": []
    },
    {
      "cell_type": "code",
      "source": [
        "test_example = np.array([[test_area, test_bedrooms, test_bathrooms]])"
      ],
      "metadata": {
        "id": "eBY-Htkv8OzT"
      },
      "execution_count": null,
      "outputs": []
    },
    {
      "cell_type": "code",
      "source": [
        "predicted_price = regressor.predict(test_example) * df.price.std() + df.price.mean()\n",
        "normalized_prediction, predicted_price"
      ],
      "metadata": {
        "colab": {
          "base_uri": "https://localhost:8080/"
        },
        "id": "nhBngGxg8Yi1",
        "outputId": "aef250e9-4ffd-42fa-f04a-a9365c600d87"
      },
      "execution_count": null,
      "outputs": [
        {
          "output_type": "execute_result",
          "data": {
            "text/plain": [
              "(array([-1.67238395]), array([1638636.06160681]))"
            ]
          },
          "metadata": {},
          "execution_count": 73
        }
      ]
    },
    {
      "cell_type": "code",
      "source": [],
      "metadata": {
        "id": "iJi9bxCO8YgT"
      },
      "execution_count": null,
      "outputs": []
    },
    {
      "cell_type": "code",
      "source": [],
      "metadata": {
        "id": "90zN1AI-8OxR"
      },
      "execution_count": null,
      "outputs": []
    }
  ]
}